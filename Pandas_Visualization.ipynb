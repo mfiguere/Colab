{
  "nbformat": 4,
  "nbformat_minor": 0,
  "metadata": {
    "colab": {
      "name": "Pandas_Visualization.ipynb",
      "provenance": [],
      "collapsed_sections": [],
      "authorship_tag": "ABX9TyPyBD+iVkgzfvclzYIZicAS",
      "include_colab_link": true
    },
    "kernelspec": {
      "name": "python3",
      "display_name": "Python 3"
    }
  },
  "cells": [
    {
      "cell_type": "markdown",
      "metadata": {
        "id": "view-in-github",
        "colab_type": "text"
      },
      "source": [
        "<a href=\"https://colab.research.google.com/github/mfiguere/Colab/blob/master/Pandas_Visualization.ipynb\" target=\"_parent\"><img src=\"https://colab.research.google.com/assets/colab-badge.svg\" alt=\"Open In Colab\"/></a>"
      ]
    },
    {
      "cell_type": "code",
      "metadata": {
        "id": "XPpGRvKhCX0u",
        "colab_type": "code",
        "colab": {}
      },
      "source": [
        "import pandas as pd\n",
        "import numpy as np\n",
        "import random \n",
        "import matplotlib.pyplot as plt"
      ],
      "execution_count": 0,
      "outputs": []
    },
    {
      "cell_type": "code",
      "metadata": {
        "id": "M47HXewhwwK6",
        "colab_type": "code",
        "colab": {}
      },
      "source": [
        ""
      ],
      "execution_count": 0,
      "outputs": []
    },
    {
      "cell_type": "markdown",
      "metadata": {
        "id": "EEITXoilwziw",
        "colab_type": "text"
      },
      "source": [
        "# Python\n",
        "\n",
        "Link interessante:https://pythonprogramming.net/python-fundamental-tutorials/"
      ]
    },
    {
      "cell_type": "markdown",
      "metadata": {
        "id": "40J5rFvnxjis",
        "colab_type": "text"
      },
      "source": [
        "## Operações Básicas\n",
        "Variáveis Categóricas, inteiras, double, listas,  "
      ]
    },
    {
      "cell_type": "markdown",
      "metadata": {
        "id": "mjIPpvp9xpSR",
        "colab_type": "text"
      },
      "source": [
        "Em python, não é necessário definir o tipo de variável:"
      ]
    },
    {
      "cell_type": "code",
      "metadata": {
        "id": "HjYYG0otxow_",
        "colab_type": "code",
        "colab": {}
      },
      "source": [
        "x=1\n",
        "palavra='Dotz'\n",
        "z=1.2"
      ],
      "execution_count": 0,
      "outputs": []
    },
    {
      "cell_type": "code",
      "metadata": {
        "id": "O7-cPljcj2_T",
        "colab_type": "code",
        "outputId": "134b797f-52ec-4bfa-8ae6-3e19363f70d5",
        "colab": {
          "base_uri": "https://localhost:8080/",
          "height": 35
        }
      },
      "source": [
        "# Impressão na tela das variáveis criadas\n",
        "print(x,palavra,z) "
      ],
      "execution_count": 0,
      "outputs": [
        {
          "output_type": "stream",
          "text": [
            "1 Dotz 1.2\n"
          ],
          "name": "stdout"
        }
      ]
    },
    {
      "cell_type": "code",
      "metadata": {
        "id": "HycEpRfYxhSv",
        "colab_type": "code",
        "outputId": "8021477a-5322-41ce-fa45-f7face917d45",
        "colab": {
          "base_uri": "https://localhost:8080/",
          "height": 35
        }
      },
      "source": [
        "# Tipos\n",
        "print(type(x),type(palavra),type(z)) "
      ],
      "execution_count": 0,
      "outputs": [
        {
          "output_type": "stream",
          "text": [
            "<class 'int'> <class 'str'> <class 'float'>\n"
          ],
          "name": "stdout"
        }
      ]
    },
    {
      "cell_type": "code",
      "metadata": {
        "id": "_gvsxS3oxfYf",
        "colab_type": "code",
        "colab": {}
      },
      "source": [
        "# Listas\n",
        "list_palavras=['carro','sorvete','pedra','ônibus','carro']\n",
        "list_palavras2=['carro','chave','sabão','Dotz','Dotz','pedra']\n",
        "list_numeros=[1,2,3,3,4,6]"
      ],
      "execution_count": 0,
      "outputs": []
    },
    {
      "cell_type": "code",
      "metadata": {
        "id": "MNdAE5zwyo74",
        "colab_type": "code",
        "outputId": "614573aa-4e99-4219-83c6-3863acce0c8d",
        "colab": {
          "base_uri": "https://localhost:8080/",
          "height": 35
        }
      },
      "source": [
        "print(list_palavras)"
      ],
      "execution_count": 0,
      "outputs": [
        {
          "output_type": "stream",
          "text": [
            "['carro', 'sorvete', 'pedra', 'ônibus', 'carro']\n"
          ],
          "name": "stdout"
        }
      ]
    },
    {
      "cell_type": "code",
      "metadata": {
        "id": "ebz0X1UAz_B2",
        "colab_type": "code",
        "outputId": "e109f4a2-db84-4b5d-b4e8-e05048da6c8d",
        "colab": {
          "base_uri": "https://localhost:8080/",
          "height": 35
        }
      },
      "source": [
        "print(list_palavras2)"
      ],
      "execution_count": 0,
      "outputs": [
        {
          "output_type": "stream",
          "text": [
            "['carro', 'chave', 'sabão', 'Dotz', 'Dotz']\n"
          ],
          "name": "stdout"
        }
      ]
    },
    {
      "cell_type": "code",
      "metadata": {
        "id": "9A95-jW_yo-P",
        "colab_type": "code",
        "outputId": "429505bb-7c33-402f-eb88-34ceb2d18406",
        "colab": {
          "base_uri": "https://localhost:8080/",
          "height": 35
        }
      },
      "source": [
        "print(list_numeros)"
      ],
      "execution_count": 0,
      "outputs": [
        {
          "output_type": "stream",
          "text": [
            "[1, 2, 3, 3, 4, 6]\n"
          ],
          "name": "stdout"
        }
      ]
    },
    {
      "cell_type": "code",
      "metadata": {
        "id": "W3g34KDoBc7F",
        "colab_type": "code",
        "colab": {}
      },
      "source": [
        ""
      ],
      "execution_count": 0,
      "outputs": []
    },
    {
      "cell_type": "markdown",
      "metadata": {
        "id": "CrOZkeeRxUc1",
        "colab_type": "text"
      },
      "source": [
        "## Numpy\n",
        "https://numpy.org/\n",
        "\n",
        "útil e eficiente para vários cálculos envolvendo vetores, matrizes, etc."
      ]
    },
    {
      "cell_type": "code",
      "metadata": {
        "id": "kDQLRZK9BdIS",
        "colab_type": "code",
        "colab": {
          "base_uri": "https://localhost:8080/",
          "height": 172
        },
        "outputId": "1d78a50b-0462-4da9-8b64-1709792ce9a2"
      },
      "source": [
        "np.sum(list_numero)"
      ],
      "execution_count": 5,
      "outputs": [
        {
          "output_type": "error",
          "ename": "NameError",
          "evalue": "ignored",
          "traceback": [
            "\u001b[0;31m---------------------------------------------------------------------------\u001b[0m",
            "\u001b[0;31mNameError\u001b[0m                                 Traceback (most recent call last)",
            "\u001b[0;32m<ipython-input-5-782c0ffcfc3a>\u001b[0m in \u001b[0;36m<module>\u001b[0;34m()\u001b[0m\n\u001b[0;32m----> 1\u001b[0;31m \u001b[0mnp\u001b[0m\u001b[0;34m.\u001b[0m\u001b[0msum\u001b[0m\u001b[0;34m(\u001b[0m\u001b[0mlist_numero\u001b[0m\u001b[0;34m)\u001b[0m\u001b[0;34m\u001b[0m\u001b[0;34m\u001b[0m\u001b[0m\n\u001b[0m",
            "\u001b[0;31mNameError\u001b[0m: name 'list_numero' is not defined"
          ]
        }
      ]
    },
    {
      "cell_type": "markdown",
      "metadata": {
        "id": "waGI7psQBds5",
        "colab_type": "text"
      },
      "source": [
        "## Primeira visualização Gráfica:\n",
        "\n",
        "Vamos aproveitar o conhecimento sobre listas e executar a primeira visualização gráfica, valendo-se do Matplotlib.\n",
        "\n",
        "https://matplotlib.org/\n",
        "\n",
        "Faremos um gráfico simples com duas variáveis (x e y), utilizando listas para isso."
      ]
    },
    {
      "cell_type": "code",
      "metadata": {
        "id": "eV_q5SWuBhXE",
        "colab_type": "code",
        "colab": {}
      },
      "source": [
        "x=[1,2,3,4,5]\n",
        "y=[2,5,6,9,12]\n"
      ],
      "execution_count": 0,
      "outputs": []
    },
    {
      "cell_type": "code",
      "metadata": {
        "id": "jTXcyM73z77f",
        "colab_type": "code",
        "outputId": "8836b9ef-6d43-41e8-9630-09c8332e6b97",
        "colab": {
          "base_uri": "https://localhost:8080/",
          "height": 283
        }
      },
      "source": [
        "# plt foi carregado acima. Módulo Pyplot #import matplotlib.pyplot as plt \n",
        "plt.plot(x,y)"
      ],
      "execution_count": 0,
      "outputs": [
        {
          "output_type": "execute_result",
          "data": {
            "text/plain": [
              "[<matplotlib.lines.Line2D at 0x7fb20778f7f0>]"
            ]
          },
          "metadata": {
            "tags": []
          },
          "execution_count": 87
        },
        {
          "output_type": "display_data",
          "data": {
            "image/png": "[encoded data removed]",
            "text/plain": [
              "<Figure size 432x288 with 1 Axes>"
            ]
          },
          "metadata": {
            "tags": [],
            "needs_background": "light"
          }
        }
      ]
    },
    {
      "cell_type": "code",
      "metadata": {
        "id": "L0uzUvQgCMDu",
        "colab_type": "code",
        "outputId": "1049ed69-40c0-46ec-e479-43a2da6f4d12",
        "colab": {
          "base_uri": "https://localhost:8080/",
          "height": 296
        }
      },
      "source": [
        "plt.xlabel('variável y (u.a.)')\n",
        "plt.ylabel('variável x (u.a.)')\n",
        "plt.title('Distribuição de y')\n",
        "plt.grid(True)\n",
        "plt.show()"
      ],
      "execution_count": 0,
      "outputs": [
        {
          "output_type": "display_data",
          "data": {
            "image/png": "[encoded data removed]",
            "text/plain": [
              "<Figure size 432x288 with 1 Axes>"
            ]
          },
          "metadata": {
            "tags": [],
            "needs_background": "light"
          }
        }
      ]
    },
    {
      "cell_type": "code",
      "metadata": {
        "id": "ma0n-6YsCdBu",
        "colab_type": "code",
        "outputId": "dc8b62ad-2d10-4f17-acfd-ef6c8309027e",
        "colab": {
          "base_uri": "https://localhost:8080/",
          "height": 295
        }
      },
      "source": [
        "plt.xlabel('variável x (u.a.)')\n",
        "plt.ylabel('variável y (u.a.)')\n",
        "plt.title('Distribuição de y')\n",
        "plt.grid(True)\n",
        "plt.plot(x,y)\n",
        "plt.show()"
      ],
      "execution_count": 0,
      "outputs": [
        {
          "output_type": "display_data",
          "data": {
            "image/png": "[encoded data removed]",
            "text/plain": [
              "<Figure size 432x288 with 1 Axes>"
            ]
          },
          "metadata": {
            "tags": [],
            "needs_background": "light"
          }
        }
      ]
    },
    {
      "cell_type": "markdown",
      "metadata": {
        "id": "Nt0UKnqS0GKI",
        "colab_type": "text"
      },
      "source": [
        "## Agrupamento de listas"
      ]
    },
    {
      "cell_type": "code",
      "metadata": {
        "id": "Jm49bsT90JMV",
        "colab_type": "code",
        "colab": {}
      },
      "source": [
        "list_total=list_palavras+list_palavras2"
      ],
      "execution_count": 0,
      "outputs": []
    },
    {
      "cell_type": "code",
      "metadata": {
        "id": "n0FTCmZy0NDv",
        "colab_type": "code",
        "outputId": "ee8d7642-91e9-4b3f-81f8-86a4ab837d33",
        "colab": {
          "base_uri": "https://localhost:8080/",
          "height": 35
        }
      },
      "source": [
        "print(list_total)"
      ],
      "execution_count": 0,
      "outputs": [
        {
          "output_type": "stream",
          "text": [
            "['carro', 'sorvete', 'pedra', 'ônibus', 'carro', 'carro', 'chave', 'sabão', 'Dotz', 'Dotz']\n"
          ],
          "name": "stdout"
        }
      ]
    },
    {
      "cell_type": "code",
      "metadata": {
        "id": "na9s5ast3wVX",
        "colab_type": "code",
        "outputId": "19a02c06-a5a8-4d7f-c610-b66e8af6b65e",
        "colab": {
          "base_uri": "https://localhost:8080/",
          "height": 197
        }
      },
      "source": [
        "for nome in list_total:\n",
        "  print(nome)"
      ],
      "execution_count": 0,
      "outputs": [
        {
          "output_type": "stream",
          "text": [
            "carro\n",
            "sorvete\n",
            "pedra\n",
            "ônibus\n",
            "carro\n",
            "carro\n",
            "chave\n",
            "sabão\n",
            "Dotz\n",
            "Dotz\n"
          ],
          "name": "stdout"
        }
      ]
    },
    {
      "cell_type": "code",
      "metadata": {
        "id": "az43-sZK0QUc",
        "colab_type": "code",
        "outputId": "a2c76e90-ea97-4232-c3d1-2876ea7f9bc9",
        "colab": {
          "base_uri": "https://localhost:8080/",
          "height": 35
        }
      },
      "source": [
        "#Tamanho\n",
        "len(list_total)"
      ],
      "execution_count": 0,
      "outputs": [
        {
          "output_type": "execute_result",
          "data": {
            "text/plain": [
              "10"
            ]
          },
          "metadata": {
            "tags": []
          },
          "execution_count": 28
        }
      ]
    },
    {
      "cell_type": "code",
      "metadata": {
        "id": "7g4pbbEAypA4",
        "colab_type": "code",
        "outputId": "d9e045bd-3a83-4af9-96fb-1a5328c17516",
        "colab": {
          "base_uri": "https://localhost:8080/",
          "height": 35
        }
      },
      "source": [
        "#Conjunto/Set: elementos únicos da lista\n",
        "set(list_palavras)"
      ],
      "execution_count": 0,
      "outputs": [
        {
          "output_type": "execute_result",
          "data": {
            "text/plain": [
              "{'carro', 'pedra', 'sorvete', 'ônibus'}"
            ]
          },
          "metadata": {
            "tags": []
          },
          "execution_count": 25
        }
      ]
    },
    {
      "cell_type": "code",
      "metadata": {
        "id": "TODMnaxT0pK7",
        "colab_type": "code",
        "outputId": "431dd069-a66a-48c8-e777-54dde75ea024",
        "colab": {
          "base_uri": "https://localhost:8080/",
          "height": 35
        }
      },
      "source": [
        "#Tamanho\n",
        "len(set(list_palavras))"
      ],
      "execution_count": 0,
      "outputs": [
        {
          "output_type": "execute_result",
          "data": {
            "text/plain": [
              "4"
            ]
          },
          "metadata": {
            "tags": []
          },
          "execution_count": 29
        }
      ]
    },
    {
      "cell_type": "code",
      "metadata": {
        "id": "4xU8cigqzOMG",
        "colab_type": "code",
        "outputId": "28a589a1-e20d-4aab-de88-1d40490ee93d",
        "colab": {
          "base_uri": "https://localhost:8080/",
          "height": 35
        }
      },
      "source": [
        "#Conjunto/Set: elementos únicos da lista \n",
        "set(list_numeros)"
      ],
      "execution_count": 0,
      "outputs": [
        {
          "output_type": "execute_result",
          "data": {
            "text/plain": [
              "{1, 2, 3, 4, 6}"
            ]
          },
          "metadata": {
            "tags": []
          },
          "execution_count": 26
        }
      ]
    },
    {
      "cell_type": "code",
      "metadata": {
        "id": "2fcM2BlSzdib",
        "colab_type": "code",
        "colab": {}
      },
      "source": [
        "\n"
      ],
      "execution_count": 0,
      "outputs": []
    },
    {
      "cell_type": "markdown",
      "metadata": {
        "id": "avAeBNcV0wT9",
        "colab_type": "text"
      },
      "source": [
        "## Operações com sets"
      ]
    },
    {
      "cell_type": "code",
      "metadata": {
        "id": "s49xRAOu0coL",
        "colab_type": "code",
        "outputId": "b431b844-66d5-4542-eb8b-9af3144f3307",
        "colab": {
          "base_uri": "https://localhost:8080/",
          "height": 35
        }
      },
      "source": [
        "#Intersecção\n",
        "set(list_palavras).intersection(list_palavras2)"
      ],
      "execution_count": 0,
      "outputs": [
        {
          "output_type": "execute_result",
          "data": {
            "text/plain": [
              "{'carro'}"
            ]
          },
          "metadata": {
            "tags": []
          },
          "execution_count": 27
        }
      ]
    },
    {
      "cell_type": "code",
      "metadata": {
        "id": "Bqo_tGDJ0cxh",
        "colab_type": "code",
        "outputId": "ce22f46c-bc31-4d08-cea9-533b2281675b",
        "colab": {
          "base_uri": "https://localhost:8080/",
          "height": 35
        }
      },
      "source": [
        "#União\n",
        "set(list_palavras).union(list_palavras2)"
      ],
      "execution_count": 0,
      "outputs": [
        {
          "output_type": "execute_result",
          "data": {
            "text/plain": [
              "{'Dotz', 'carro', 'chave', 'pedra', 'sabão', 'sorvete', 'ônibus'}"
            ]
          },
          "metadata": {
            "tags": []
          },
          "execution_count": 34
        }
      ]
    },
    {
      "cell_type": "code",
      "metadata": {
        "id": "VSt0D0q21FF9",
        "colab_type": "code",
        "outputId": "40c30273-30a3-4b49-8a86-e5830baa6b32",
        "colab": {
          "base_uri": "https://localhost:8080/",
          "height": 35
        }
      },
      "source": [
        "#Diferença\n",
        "set(list_palavras).difference(list_palavras2)"
      ],
      "execution_count": 0,
      "outputs": [
        {
          "output_type": "execute_result",
          "data": {
            "text/plain": [
              "{'pedra', 'sorvete', 'ônibus'}"
            ]
          },
          "metadata": {
            "tags": []
          },
          "execution_count": 35
        }
      ]
    },
    {
      "cell_type": "markdown",
      "metadata": {
        "id": "WPUzrG4OztDg",
        "colab_type": "text"
      },
      "source": [
        "# Dicionários"
      ]
    },
    {
      "cell_type": "code",
      "metadata": {
        "id": "HGBq8fKdzcxU",
        "colab_type": "code",
        "colab": {}
      },
      "source": [
        "categoria_exemplo = 'a'\n",
        "valor_exemplo = 10\n",
        "\n",
        "# Chaves e Valores\n",
        "d = {'categoria':categoria_exemplo,'valor':valor_exemplo}\n"
      ],
      "execution_count": 0,
      "outputs": []
    },
    {
      "cell_type": "code",
      "metadata": {
        "id": "Lq2bXbi4z2T7",
        "colab_type": "code",
        "outputId": "546e3383-b38c-46bc-9c0b-ddc1ca23b551",
        "colab": {
          "base_uri": "https://localhost:8080/",
          "height": 35
        }
      },
      "source": [
        "d"
      ],
      "execution_count": 0,
      "outputs": [
        {
          "output_type": "execute_result",
          "data": {
            "text/plain": [
              "{'categoria': 'a', 'valor': 10}"
            ]
          },
          "metadata": {
            "tags": []
          },
          "execution_count": 53
        }
      ]
    },
    {
      "cell_type": "code",
      "metadata": {
        "id": "o8o-PX5cz2N8",
        "colab_type": "code",
        "outputId": "327f7012-1753-43f6-e703-cce79eee5606",
        "colab": {
          "base_uri": "https://localhost:8080/",
          "height": 35
        }
      },
      "source": [
        "type(d)"
      ],
      "execution_count": 0,
      "outputs": [
        {
          "output_type": "execute_result",
          "data": {
            "text/plain": [
              "dict"
            ]
          },
          "metadata": {
            "tags": []
          },
          "execution_count": 54
        }
      ]
    },
    {
      "cell_type": "code",
      "metadata": {
        "id": "JlQqFJYf3JtU",
        "colab_type": "code",
        "outputId": "4415e099-2796-4e3a-d92d-b92fcd759ac9",
        "colab": {
          "base_uri": "https://localhost:8080/",
          "height": 35
        }
      },
      "source": [
        "d.get('categoria')"
      ],
      "execution_count": 0,
      "outputs": [
        {
          "output_type": "execute_result",
          "data": {
            "text/plain": [
              "'a'"
            ]
          },
          "metadata": {
            "tags": []
          },
          "execution_count": 55
        }
      ]
    },
    {
      "cell_type": "code",
      "metadata": {
        "id": "GmRAkTxD3Vy9",
        "colab_type": "code",
        "outputId": "6f428acd-e5bf-4bed-e052-e4660a4e94b2",
        "colab": {
          "base_uri": "https://localhost:8080/",
          "height": 35
        }
      },
      "source": [
        "d.get('valor')"
      ],
      "execution_count": 0,
      "outputs": [
        {
          "output_type": "execute_result",
          "data": {
            "text/plain": [
              "10"
            ]
          },
          "metadata": {
            "tags": []
          },
          "execution_count": 56
        }
      ]
    },
    {
      "cell_type": "code",
      "metadata": {
        "id": "lf48j94o4cGv",
        "colab_type": "code",
        "outputId": "ac288fa1-f9f5-485c-ef98-47c792225c1f",
        "colab": {
          "base_uri": "https://localhost:8080/",
          "height": 53
        }
      },
      "source": [
        "for x in d.keys():\n",
        "  print(x)"
      ],
      "execution_count": 0,
      "outputs": [
        {
          "output_type": "stream",
          "text": [
            "categoria\n",
            "valor\n"
          ],
          "name": "stdout"
        }
      ]
    },
    {
      "cell_type": "code",
      "metadata": {
        "id": "hMeYg5893V2J",
        "colab_type": "code",
        "outputId": "2f3b2e05-1852-4133-d1ff-5794193d6f6c",
        "colab": {
          "base_uri": "https://localhost:8080/",
          "height": 53
        }
      },
      "source": [
        "for x in d.values():\n",
        "  print(x)"
      ],
      "execution_count": 0,
      "outputs": [
        {
          "output_type": "stream",
          "text": [
            "a\n",
            "10\n"
          ],
          "name": "stdout"
        }
      ]
    },
    {
      "cell_type": "code",
      "metadata": {
        "id": "yxz8tyPf4afh",
        "colab_type": "code",
        "colab": {}
      },
      "source": [
        ""
      ],
      "execution_count": 0,
      "outputs": []
    },
    {
      "cell_type": "markdown",
      "metadata": {
        "id": "0L7c3jQs4jLA",
        "colab_type": "text"
      },
      "source": [
        "Podemos trabalhar com listas também. Será útil mais para frente."
      ]
    },
    {
      "cell_type": "code",
      "metadata": {
        "id": "IQk-XyrY3V5E",
        "colab_type": "code",
        "colab": {}
      },
      "source": [
        "list_categorias = ['a','b','c','a']\n",
        "list_valores = [10,20,30,12]\n",
        "dd = {'categoria':list_categorias,'valor':list_valores}"
      ],
      "execution_count": 0,
      "outputs": []
    },
    {
      "cell_type": "code",
      "metadata": {
        "id": "JFwYJq7hj3CJ",
        "colab_type": "code",
        "outputId": "df1a98d4-1ea8-443d-99ea-f483f5b9c6e2",
        "colab": {
          "base_uri": "https://localhost:8080/",
          "height": 35
        }
      },
      "source": [
        "dd.get('categoria')"
      ],
      "execution_count": 0,
      "outputs": [
        {
          "output_type": "execute_result",
          "data": {
            "text/plain": [
              "['a', 'b', 'c', 'a']"
            ]
          },
          "metadata": {
            "tags": []
          },
          "execution_count": 64
        }
      ]
    },
    {
      "cell_type": "code",
      "metadata": {
        "id": "-_1OusvIllgq",
        "colab_type": "code",
        "outputId": "075058ee-557a-48b9-a2dc-3bc2ddbac236",
        "colab": {
          "base_uri": "https://localhost:8080/",
          "height": 35
        }
      },
      "source": [
        "dd.get('categoria')"
      ],
      "execution_count": 0,
      "outputs": [
        {
          "output_type": "execute_result",
          "data": {
            "text/plain": [
              "['a', 'b', 'c', 'a']"
            ]
          },
          "metadata": {
            "tags": []
          },
          "execution_count": 65
        }
      ]
    },
    {
      "cell_type": "code",
      "metadata": {
        "id": "nHb3iRlb4x3R",
        "colab_type": "code",
        "colab": {}
      },
      "source": [
        ""
      ],
      "execution_count": 0,
      "outputs": []
    },
    {
      "cell_type": "markdown",
      "metadata": {
        "id": "gg_ju4HY402i",
        "colab_type": "text"
      },
      "source": [
        "Até aqui: operações básicas, listas, conjuntos/sets, dicionários"
      ]
    },
    {
      "cell_type": "code",
      "metadata": {
        "id": "XdkEQn2K5BWu",
        "colab_type": "code",
        "colab": {}
      },
      "source": [
        ""
      ],
      "execution_count": 0,
      "outputs": []
    },
    {
      "cell_type": "markdown",
      "metadata": {
        "id": "Zt1uwn8U5B0X",
        "colab_type": "text"
      },
      "source": [
        "# Pandas Dataframe"
      ]
    },
    {
      "cell_type": "markdown",
      "metadata": {
        "id": "QiZ1BJ-s5T-n",
        "colab_type": "text"
      },
      "source": [
        "https://pandas.pydata.org/pandas-docs/stable/reference/api/pandas.DataFrame.html"
      ]
    },
    {
      "cell_type": "markdown",
      "metadata": {
        "id": "tld_8k2g5UE2",
        "colab_type": "text"
      },
      "source": [
        "\" Two-dimensional, size-mutable, potentially heterogeneous tabular data.\n",
        "\n",
        "Data structure also contains labeled axes (rows and columns). Arithmetic operations align on both row and column labels. Can be thought of as a dict-like container for Series objects. The primary pandas data structure. \""
      ]
    },
    {
      "cell_type": "markdown",
      "metadata": {
        "id": "T_eabt-_9pF5",
        "colab_type": "text"
      },
      "source": [
        "Para quem é familiar com o BigQuery, por exemplo, a estrutura tabular se assemelha muito com a saída de alguma query."
      ]
    },
    {
      "cell_type": "code",
      "metadata": {
        "id": "iBc6DU2U4x_d",
        "colab_type": "code",
        "colab": {}
      },
      "source": [
        "\n",
        "\n",
        "\n"
      ],
      "execution_count": 0,
      "outputs": []
    },
    {
      "cell_type": "markdown",
      "metadata": {
        "id": "asCALuWM90ym",
        "colab_type": "text"
      },
      "source": [
        "Vamos utilizar o dicionário anterior para criar um dataframe."
      ]
    },
    {
      "cell_type": "code",
      "metadata": {
        "id": "IlxUgJ4P96LB",
        "colab_type": "code",
        "outputId": "41eb6d89-b687-4263-bee4-fd2ecc650c72",
        "colab": {
          "base_uri": "https://localhost:8080/",
          "height": 35
        }
      },
      "source": [
        "dd"
      ],
      "execution_count": 0,
      "outputs": [
        {
          "output_type": "execute_result",
          "data": {
            "text/plain": [
              "{'categoria': ['a', 'b', 'c', 'a'], 'valor': [10, 20, 30, 12]}"
            ]
          },
          "metadata": {
            "tags": []
          },
          "execution_count": 66
        }
      ]
    },
    {
      "cell_type": "code",
      "metadata": {
        "id": "dPsblyMjk4fE",
        "colab_type": "code",
        "colab": {}
      },
      "source": [
        "# Função para gerar um dataframe do dicionário dd \n",
        "df_pandas = pd.DataFrame(data=dd)"
      ],
      "execution_count": 0,
      "outputs": []
    },
    {
      "cell_type": "code",
      "metadata": {
        "id": "Xjc3FIznj3os",
        "colab_type": "code",
        "outputId": "ff04a975-3406-4f55-bf98-ba2588b84e3c",
        "colab": {
          "base_uri": "https://localhost:8080/",
          "height": 173
        }
      },
      "source": [
        "df_pandas.head()"
      ],
      "execution_count": 0,
      "outputs": [
        {
          "output_type": "execute_result",
          "data": {
            "text/html": [
              "<div>\n",
              "<style scoped>\n",
              "    .dataframe tbody tr th:only-of-type {\n",
              "        vertical-align: middle;\n",
              "    }\n",
              "\n",
              "    .dataframe tbody tr th {\n",
              "        vertical-align: top;\n",
              "    }\n",
              "\n",
              "    .dataframe thead th {\n",
              "        text-align: right;\n",
              "    }\n",
              "</style>\n",
              "<table border=\"1\" class=\"dataframe\">\n",
              "  <thead>\n",
              "    <tr style=\"text-align: right;\">\n",
              "      <th></th>\n",
              "      <th>categoria</th>\n",
              "      <th>valor</th>\n",
              "    </tr>\n",
              "  </thead>\n",
              "  <tbody>\n",
              "    <tr>\n",
              "      <th>0</th>\n",
              "      <td>a</td>\n",
              "      <td>10</td>\n",
              "    </tr>\n",
              "    <tr>\n",
              "      <th>1</th>\n",
              "      <td>b</td>\n",
              "      <td>20</td>\n",
              "    </tr>\n",
              "    <tr>\n",
              "      <th>2</th>\n",
              "      <td>c</td>\n",
              "      <td>30</td>\n",
              "    </tr>\n",
              "    <tr>\n",
              "      <th>3</th>\n",
              "      <td>a</td>\n",
              "      <td>12</td>\n",
              "    </tr>\n",
              "  </tbody>\n",
              "</table>\n",
              "</div>"
            ],
            "text/plain": [
              "  categoria  valor\n",
              "0         a     10\n",
              "1         b     20\n",
              "2         c     30\n",
              "3         a     12"
            ]
          },
          "metadata": {
            "tags": []
          },
          "execution_count": 70
        }
      ]
    },
    {
      "cell_type": "markdown",
      "metadata": {
        "id": "pWxl2WA2-QQu",
        "colab_type": "text"
      },
      "source": [
        "## Manipulações de dados e visualizações"
      ]
    },
    {
      "cell_type": "markdown",
      "metadata": {
        "id": "6wT2-_Bcl38Y",
        "colab_type": "text"
      },
      "source": [
        "## Simulando dados para primeiras verificações"
      ]
    },
    {
      "cell_type": "code",
      "metadata": {
        "id": "JIhC88hhl0ok",
        "colab_type": "code",
        "colab": {}
      },
      "source": [
        "# Relembrando um pocuo o que foi feito com R no último encontro\n",
        "seed=40 \n"
      ],
      "execution_count": 0,
      "outputs": []
    },
    {
      "cell_type": "markdown",
      "metadata": {
        "id": "BSlEiAtJ-b3t",
        "colab_type": "text"
      },
      "source": [
        "Aqui, criaremos distribuições para 4 categorias a,b,c,d. Faremos da forma mais pedestre possível, entendendo passo a passo."
      ]
    },
    {
      "cell_type": "code",
      "metadata": {
        "id": "cusWtzSY-au5",
        "colab_type": "code",
        "colab": {}
      },
      "source": [
        "random.seed(seed)\n",
        "\n",
        "#Número de entradas para cada categoria (aleatório uniforme de 100 a 10000)\n",
        "na=random.randint(100,10000)\n",
        "nb=random.randint(100,10000)\n",
        "nc=random.randint(100,10000)\n",
        "nd=random.randint(100,10000)"
      ],
      "execution_count": 0,
      "outputs": []
    },
    {
      "cell_type": "code",
      "metadata": {
        "id": "qTD0fTe1--Mv",
        "colab_type": "code",
        "colab": {}
      },
      "source": [
        ""
      ],
      "execution_count": 0,
      "outputs": []
    },
    {
      "cell_type": "markdown",
      "metadata": {
        "id": "0AtDuJz1_SOR",
        "colab_type": "text"
      },
      "source": [
        "## Vamos usar uma distribuição normal para os sorteios: \n",
        "https://www.inf.ufsc.br/~andre.zibetti/probabilidade/normal.html"
      ]
    },
    {
      "cell_type": "code",
      "metadata": {
        "id": "2GyXrjdb--Ww",
        "colab_type": "code",
        "colab": {}
      },
      "source": [
        ""
      ],
      "execution_count": 0,
      "outputs": []
    },
    {
      "cell_type": "markdown",
      "metadata": {
        "id": "Et9Geqds_nqK",
        "colab_type": "text"
      },
      "source": [
        "Essa distribuição é definida pela posição mais provável(mu) e desvio padrão(sigma)"
      ]
    },
    {
      "cell_type": "code",
      "metadata": {
        "id": "RunFJpc-l0rh",
        "colab_type": "code",
        "colab": {}
      },
      "source": [
        "#Determinação arbitrária dos 'mu's e 'sigma's para valores sorteados\n",
        "mu_a=100 \n",
        "mu_b=200\n",
        "mu_c=300\n",
        "mu_d=400\n",
        "\n",
        "sigma_a=5\n",
        "sigma_b=10\n",
        "sigma_c=5\n",
        "sigma_d=10\n",
        "\n",
        "\n",
        "\n",
        "# Listas para os valores sorteados\n",
        "valores_a=[random.gauss(mu=mu_a,sigma=sigma_a) for i in range(0,na)]\n",
        "valores_b=[random.gauss(mu=mu_b,sigma=sigma_b) for i in range(0,nb)]\n",
        "valores_c=[random.gauss(mu=mu_c,sigma=sigma_c) for i in range(0,nc)]\n",
        "valores_d=[random.gauss(mu=mu_d,sigma=sigma_d) for i in range(0,nd)]\n",
        "\n",
        "# Vendas para os valores sorteados\n",
        "vendas_a=[int(random.gauss(5000/valor,500/valor)) for valor in valores_a]\n",
        "vendas_b=[int(random.gauss(5000/valor,500/valor)) for valor in valores_b]\n",
        "vendas_c=[int(random.gauss(5000/valor,500/valor)) for valor in valores_c]\n",
        "vendas_d=[int(random.gauss(5000/valor,500/valor)) for valor in valores_d]\n",
        "\n",
        "#Listas para as categorias\n",
        "categorias_a=['a' for i in range(0,na)]\n",
        "categorias_b=['b' for i in range(0,nb)]\n",
        "categorias_c=['c' for i in range(0,nc)]\n",
        "categorias_d=['d' for i in range(0,nd)]\n",
        "\n",
        "categorias=categorias_a+categorias_b+categorias_c+categorias_d\n",
        "valores=valores_a+valores_b+valores_c+valores_d\n",
        "vendas=vendas_a+vendas_b+vendas_c+vendas_d\n",
        "\n"
      ],
      "execution_count": 0,
      "outputs": []
    },
    {
      "cell_type": "code",
      "metadata": {
        "id": "BK0q2ZGlx0hG",
        "colab_type": "code",
        "colab": {}
      },
      "source": [
        "d_simulado = {'categoria':categorias,'valor':valores,'vendas':vendas}\n"
      ],
      "execution_count": 0,
      "outputs": []
    },
    {
      "cell_type": "code",
      "metadata": {
        "id": "OIwKFuf6x5u9",
        "colab_type": "code",
        "colab": {}
      },
      "source": [
        "# Gerando um novo DataFrame\n",
        "df_simulado = pd.DataFrame(data=d_simulado)\n"
      ],
      "execution_count": 0,
      "outputs": []
    },
    {
      "cell_type": "code",
      "metadata": {
        "id": "csuQmpvp03PK",
        "colab_type": "code",
        "outputId": "a4c2f0f9-97f1-4d4b-e80a-c7d4731d73ac",
        "colab": {
          "base_uri": "https://localhost:8080/",
          "height": 173
        }
      },
      "source": [
        "df_simulado.head(4)"
      ],
      "execution_count": 0,
      "outputs": [
        {
          "output_type": "execute_result",
          "data": {
            "text/html": [
              "<div>\n",
              "<style scoped>\n",
              "    .dataframe tbody tr th:only-of-type {\n",
              "        vertical-align: middle;\n",
              "    }\n",
              "\n",
              "    .dataframe tbody tr th {\n",
              "        vertical-align: top;\n",
              "    }\n",
              "\n",
              "    .dataframe thead th {\n",
              "        text-align: right;\n",
              "    }\n",
              "</style>\n",
              "<table border=\"1\" class=\"dataframe\">\n",
              "  <thead>\n",
              "    <tr style=\"text-align: right;\">\n",
              "      <th></th>\n",
              "      <th>categoria</th>\n",
              "      <th>valor</th>\n",
              "      <th>vendas</th>\n",
              "    </tr>\n",
              "  </thead>\n",
              "  <tbody>\n",
              "    <tr>\n",
              "      <th>0</th>\n",
              "      <td>a</td>\n",
              "      <td>100.714744</td>\n",
              "      <td>55</td>\n",
              "    </tr>\n",
              "    <tr>\n",
              "      <th>1</th>\n",
              "      <td>a</td>\n",
              "      <td>92.071348</td>\n",
              "      <td>57</td>\n",
              "    </tr>\n",
              "    <tr>\n",
              "      <th>2</th>\n",
              "      <td>a</td>\n",
              "      <td>93.668077</td>\n",
              "      <td>48</td>\n",
              "    </tr>\n",
              "    <tr>\n",
              "      <th>3</th>\n",
              "      <td>a</td>\n",
              "      <td>96.064245</td>\n",
              "      <td>54</td>\n",
              "    </tr>\n",
              "  </tbody>\n",
              "</table>\n",
              "</div>"
            ],
            "text/plain": [
              "  categoria       valor  vendas\n",
              "0         a  100.714744      55\n",
              "1         a   92.071348      57\n",
              "2         a   93.668077      48\n",
              "3         a   96.064245      54"
            ]
          },
          "metadata": {
            "tags": []
          },
          "execution_count": 196
        }
      ]
    },
    {
      "cell_type": "code",
      "metadata": {
        "id": "jeaOzWkN04v4",
        "colab_type": "code",
        "outputId": "6d3a59a7-3448-4876-b69b-d367b6cd4c97",
        "colab": {
          "base_uri": "https://localhost:8080/",
          "height": 89
        }
      },
      "source": [
        "# Contagens\n",
        "df_simulado.count()"
      ],
      "execution_count": 0,
      "outputs": [
        {
          "output_type": "execute_result",
          "data": {
            "text/plain": [
              "categoria    26512\n",
              "valor        26512\n",
              "vendas       26512\n",
              "dtype: int64"
            ]
          },
          "metadata": {
            "tags": []
          },
          "execution_count": 197
        }
      ]
    },
    {
      "cell_type": "code",
      "metadata": {
        "id": "NWnBL9ltAubz",
        "colab_type": "code",
        "colab": {}
      },
      "source": [
        ""
      ],
      "execution_count": 0,
      "outputs": []
    },
    {
      "cell_type": "markdown",
      "metadata": {
        "id": "t7t12QZfAvQC",
        "colab_type": "text"
      },
      "source": [
        "## Agrupamentos e contagens básicas"
      ]
    },
    {
      "cell_type": "code",
      "metadata": {
        "id": "3f_aPYUL04yd",
        "colab_type": "code",
        "outputId": "d7eae181-fbcb-4955-c8b6-0d8220cd06ac",
        "colab": {
          "base_uri": "https://localhost:8080/",
          "height": 204
        }
      },
      "source": [
        "# Contagens por categoria\n",
        "df_simulado.groupby('categoria').count()"
      ],
      "execution_count": 0,
      "outputs": [
        {
          "output_type": "execute_result",
          "data": {
            "text/html": [
              "<div>\n",
              "<style scoped>\n",
              "    .dataframe tbody tr th:only-of-type {\n",
              "        vertical-align: middle;\n",
              "    }\n",
              "\n",
              "    .dataframe tbody tr th {\n",
              "        vertical-align: top;\n",
              "    }\n",
              "\n",
              "    .dataframe thead th {\n",
              "        text-align: right;\n",
              "    }\n",
              "</style>\n",
              "<table border=\"1\" class=\"dataframe\">\n",
              "  <thead>\n",
              "    <tr style=\"text-align: right;\">\n",
              "      <th></th>\n",
              "      <th>valor</th>\n",
              "      <th>vendas</th>\n",
              "    </tr>\n",
              "    <tr>\n",
              "      <th>categoria</th>\n",
              "      <th></th>\n",
              "      <th></th>\n",
              "    </tr>\n",
              "  </thead>\n",
              "  <tbody>\n",
              "    <tr>\n",
              "      <th>a</th>\n",
              "      <td>7613</td>\n",
              "      <td>7613</td>\n",
              "    </tr>\n",
              "    <tr>\n",
              "      <th>b</th>\n",
              "      <td>9594</td>\n",
              "      <td>9594</td>\n",
              "    </tr>\n",
              "    <tr>\n",
              "      <th>c</th>\n",
              "      <td>8684</td>\n",
              "      <td>8684</td>\n",
              "    </tr>\n",
              "    <tr>\n",
              "      <th>d</th>\n",
              "      <td>621</td>\n",
              "      <td>621</td>\n",
              "    </tr>\n",
              "  </tbody>\n",
              "</table>\n",
              "</div>"
            ],
            "text/plain": [
              "           valor  vendas\n",
              "categoria               \n",
              "a           7613    7613\n",
              "b           9594    9594\n",
              "c           8684    8684\n",
              "d            621     621"
            ]
          },
          "metadata": {
            "tags": []
          },
          "execution_count": 198
        }
      ]
    },
    {
      "cell_type": "code",
      "metadata": {
        "id": "BM3m8mWcPEne",
        "colab_type": "code",
        "outputId": "4c4d9d46-6128-43b1-efe9-a98bf80ebc4e",
        "colab": {
          "base_uri": "https://localhost:8080/",
          "height": 204
        }
      },
      "source": [
        "df_simulado.groupby('categoria').mean()"
      ],
      "execution_count": 0,
      "outputs": [
        {
          "output_type": "execute_result",
          "data": {
            "text/html": [
              "<div>\n",
              "<style scoped>\n",
              "    .dataframe tbody tr th:only-of-type {\n",
              "        vertical-align: middle;\n",
              "    }\n",
              "\n",
              "    .dataframe tbody tr th {\n",
              "        vertical-align: top;\n",
              "    }\n",
              "\n",
              "    .dataframe thead th {\n",
              "        text-align: right;\n",
              "    }\n",
              "</style>\n",
              "<table border=\"1\" class=\"dataframe\">\n",
              "  <thead>\n",
              "    <tr style=\"text-align: right;\">\n",
              "      <th></th>\n",
              "      <th>valor</th>\n",
              "      <th>vendas</th>\n",
              "    </tr>\n",
              "    <tr>\n",
              "      <th>categoria</th>\n",
              "      <th></th>\n",
              "      <th></th>\n",
              "    </tr>\n",
              "  </thead>\n",
              "  <tbody>\n",
              "    <tr>\n",
              "      <th>a</th>\n",
              "      <td>99.979882</td>\n",
              "      <td>49.584921</td>\n",
              "    </tr>\n",
              "    <tr>\n",
              "      <th>b</th>\n",
              "      <td>200.078805</td>\n",
              "      <td>24.592141</td>\n",
              "    </tr>\n",
              "    <tr>\n",
              "      <th>c</th>\n",
              "      <td>300.032797</td>\n",
              "      <td>16.170544</td>\n",
              "    </tr>\n",
              "    <tr>\n",
              "      <th>d</th>\n",
              "      <td>400.665329</td>\n",
              "      <td>11.967794</td>\n",
              "    </tr>\n",
              "  </tbody>\n",
              "</table>\n",
              "</div>"
            ],
            "text/plain": [
              "                valor     vendas\n",
              "categoria                       \n",
              "a           99.979882  49.584921\n",
              "b          200.078805  24.592141\n",
              "c          300.032797  16.170544\n",
              "d          400.665329  11.967794"
            ]
          },
          "metadata": {
            "tags": []
          },
          "execution_count": 199
        }
      ]
    },
    {
      "cell_type": "code",
      "metadata": {
        "id": "7GTo75Kk041U",
        "colab_type": "code",
        "outputId": "4ecd091e-4a20-4970-c820-692808203196",
        "colab": {
          "base_uri": "https://localhost:8080/",
          "height": 235
        }
      },
      "source": [
        "# Mais métricas por categoria\n",
        "df_simulado.groupby('categoria').agg({'count','mean','median','max','min','sum'})\n",
        "\n"
      ],
      "execution_count": 0,
      "outputs": [
        {
          "output_type": "execute_result",
          "data": {
            "text/html": [
              "<div>\n",
              "<style scoped>\n",
              "    .dataframe tbody tr th:only-of-type {\n",
              "        vertical-align: middle;\n",
              "    }\n",
              "\n",
              "    .dataframe tbody tr th {\n",
              "        vertical-align: top;\n",
              "    }\n",
              "\n",
              "    .dataframe thead tr th {\n",
              "        text-align: left;\n",
              "    }\n",
              "\n",
              "    .dataframe thead tr:last-of-type th {\n",
              "        text-align: right;\n",
              "    }\n",
              "</style>\n",
              "<table border=\"1\" class=\"dataframe\">\n",
              "  <thead>\n",
              "    <tr>\n",
              "      <th></th>\n",
              "      <th colspan=\"6\" halign=\"left\">valor</th>\n",
              "      <th colspan=\"6\" halign=\"left\">vendas</th>\n",
              "    </tr>\n",
              "    <tr>\n",
              "      <th></th>\n",
              "      <th>median</th>\n",
              "      <th>sum</th>\n",
              "      <th>min</th>\n",
              "      <th>count</th>\n",
              "      <th>mean</th>\n",
              "      <th>max</th>\n",
              "      <th>median</th>\n",
              "      <th>sum</th>\n",
              "      <th>min</th>\n",
              "      <th>count</th>\n",
              "      <th>mean</th>\n",
              "      <th>max</th>\n",
              "    </tr>\n",
              "    <tr>\n",
              "      <th>categoria</th>\n",
              "      <th></th>\n",
              "      <th></th>\n",
              "      <th></th>\n",
              "      <th></th>\n",
              "      <th></th>\n",
              "      <th></th>\n",
              "      <th></th>\n",
              "      <th></th>\n",
              "      <th></th>\n",
              "      <th></th>\n",
              "      <th></th>\n",
              "      <th></th>\n",
              "    </tr>\n",
              "  </thead>\n",
              "  <tbody>\n",
              "    <tr>\n",
              "      <th>a</th>\n",
              "      <td>99.931113</td>\n",
              "      <td>7.611468e+05</td>\n",
              "      <td>80.896372</td>\n",
              "      <td>7613</td>\n",
              "      <td>99.979882</td>\n",
              "      <td>117.717372</td>\n",
              "      <td>49</td>\n",
              "      <td>377490</td>\n",
              "      <td>30</td>\n",
              "      <td>7613</td>\n",
              "      <td>49.584921</td>\n",
              "      <td>73</td>\n",
              "    </tr>\n",
              "    <tr>\n",
              "      <th>b</th>\n",
              "      <td>200.142580</td>\n",
              "      <td>1.919556e+06</td>\n",
              "      <td>162.015881</td>\n",
              "      <td>9594</td>\n",
              "      <td>200.078805</td>\n",
              "      <td>236.879626</td>\n",
              "      <td>25</td>\n",
              "      <td>235937</td>\n",
              "      <td>15</td>\n",
              "      <td>9594</td>\n",
              "      <td>24.592141</td>\n",
              "      <td>37</td>\n",
              "    </tr>\n",
              "    <tr>\n",
              "      <th>c</th>\n",
              "      <td>300.012601</td>\n",
              "      <td>2.605485e+06</td>\n",
              "      <td>282.843530</td>\n",
              "      <td>8684</td>\n",
              "      <td>300.032797</td>\n",
              "      <td>318.886639</td>\n",
              "      <td>16</td>\n",
              "      <td>140425</td>\n",
              "      <td>10</td>\n",
              "      <td>8684</td>\n",
              "      <td>16.170544</td>\n",
              "      <td>26</td>\n",
              "    </tr>\n",
              "    <tr>\n",
              "      <th>d</th>\n",
              "      <td>400.428974</td>\n",
              "      <td>2.488132e+05</td>\n",
              "      <td>368.374118</td>\n",
              "      <td>621</td>\n",
              "      <td>400.665329</td>\n",
              "      <td>431.569261</td>\n",
              "      <td>12</td>\n",
              "      <td>7432</td>\n",
              "      <td>8</td>\n",
              "      <td>621</td>\n",
              "      <td>11.967794</td>\n",
              "      <td>16</td>\n",
              "    </tr>\n",
              "  </tbody>\n",
              "</table>\n",
              "</div>"
            ],
            "text/plain": [
              "                valor                                  ... vendas                     \n",
              "               median           sum         min count  ...    min count       mean max\n",
              "categoria                                              ...                            \n",
              "a           99.931113  7.611468e+05   80.896372  7613  ...     30  7613  49.584921  73\n",
              "b          200.142580  1.919556e+06  162.015881  9594  ...     15  9594  24.592141  37\n",
              "c          300.012601  2.605485e+06  282.843530  8684  ...     10  8684  16.170544  26\n",
              "d          400.428974  2.488132e+05  368.374118   621  ...      8   621  11.967794  16\n",
              "\n",
              "[4 rows x 12 columns]"
            ]
          },
          "metadata": {
            "tags": []
          },
          "execution_count": 221
        }
      ]
    },
    {
      "cell_type": "code",
      "metadata": {
        "id": "ZjuXXkdpGnQI",
        "colab_type": "code",
        "outputId": "caf2515d-c710-48a8-aad7-6b049fd51470",
        "colab": {
          "base_uri": "https://localhost:8080/",
          "height": 297
        }
      },
      "source": [
        "df_simulado.describe()"
      ],
      "execution_count": 0,
      "outputs": [
        {
          "output_type": "execute_result",
          "data": {
            "text/html": [
              "<div>\n",
              "<style scoped>\n",
              "    .dataframe tbody tr th:only-of-type {\n",
              "        vertical-align: middle;\n",
              "    }\n",
              "\n",
              "    .dataframe tbody tr th {\n",
              "        vertical-align: top;\n",
              "    }\n",
              "\n",
              "    .dataframe thead th {\n",
              "        text-align: right;\n",
              "    }\n",
              "</style>\n",
              "<table border=\"1\" class=\"dataframe\">\n",
              "  <thead>\n",
              "    <tr style=\"text-align: right;\">\n",
              "      <th></th>\n",
              "      <th>valor</th>\n",
              "      <th>vendas</th>\n",
              "    </tr>\n",
              "  </thead>\n",
              "  <tbody>\n",
              "    <tr>\n",
              "      <th>count</th>\n",
              "      <td>26512.000000</td>\n",
              "      <td>26512.000000</td>\n",
              "    </tr>\n",
              "    <tr>\n",
              "      <th>mean</th>\n",
              "      <td>208.773419</td>\n",
              "      <td>28.714695</td>\n",
              "    </tr>\n",
              "    <tr>\n",
              "      <th>std</th>\n",
              "      <td>84.087316</td>\n",
              "      <td>14.222938</td>\n",
              "    </tr>\n",
              "    <tr>\n",
              "      <th>min</th>\n",
              "      <td>80.896372</td>\n",
              "      <td>8.000000</td>\n",
              "    </tr>\n",
              "    <tr>\n",
              "      <th>25%</th>\n",
              "      <td>105.676790</td>\n",
              "      <td>17.000000</td>\n",
              "    </tr>\n",
              "    <tr>\n",
              "      <th>50%</th>\n",
              "      <td>202.337371</td>\n",
              "      <td>24.000000</td>\n",
              "    </tr>\n",
              "    <tr>\n",
              "      <th>75%</th>\n",
              "      <td>297.514096</td>\n",
              "      <td>43.000000</td>\n",
              "    </tr>\n",
              "    <tr>\n",
              "      <th>max</th>\n",
              "      <td>431.569261</td>\n",
              "      <td>73.000000</td>\n",
              "    </tr>\n",
              "  </tbody>\n",
              "</table>\n",
              "</div>"
            ],
            "text/plain": [
              "              valor        vendas\n",
              "count  26512.000000  26512.000000\n",
              "mean     208.773419     28.714695\n",
              "std       84.087316     14.222938\n",
              "min       80.896372      8.000000\n",
              "25%      105.676790     17.000000\n",
              "50%      202.337371     24.000000\n",
              "75%      297.514096     43.000000\n",
              "max      431.569261     73.000000"
            ]
          },
          "metadata": {
            "tags": []
          },
          "execution_count": 203
        }
      ]
    },
    {
      "cell_type": "code",
      "metadata": {
        "id": "rZRyKTcIGtfM",
        "colab_type": "code",
        "outputId": "fa1921a3-e708-4815-96b7-ff46a5ed4270",
        "colab": {
          "base_uri": "https://localhost:8080/",
          "height": 235
        }
      },
      "source": [
        "df_simulado.set_index('categoria').sort_values('valor').head()"
      ],
      "execution_count": 0,
      "outputs": [
        {
          "output_type": "execute_result",
          "data": {
            "text/html": [
              "<div>\n",
              "<style scoped>\n",
              "    .dataframe tbody tr th:only-of-type {\n",
              "        vertical-align: middle;\n",
              "    }\n",
              "\n",
              "    .dataframe tbody tr th {\n",
              "        vertical-align: top;\n",
              "    }\n",
              "\n",
              "    .dataframe thead th {\n",
              "        text-align: right;\n",
              "    }\n",
              "</style>\n",
              "<table border=\"1\" class=\"dataframe\">\n",
              "  <thead>\n",
              "    <tr style=\"text-align: right;\">\n",
              "      <th></th>\n",
              "      <th>valor</th>\n",
              "      <th>vendas</th>\n",
              "    </tr>\n",
              "    <tr>\n",
              "      <th>categoria</th>\n",
              "      <th></th>\n",
              "      <th></th>\n",
              "    </tr>\n",
              "  </thead>\n",
              "  <tbody>\n",
              "    <tr>\n",
              "      <th>a</th>\n",
              "      <td>80.896372</td>\n",
              "      <td>62</td>\n",
              "    </tr>\n",
              "    <tr>\n",
              "      <th>a</th>\n",
              "      <td>81.383281</td>\n",
              "      <td>57</td>\n",
              "    </tr>\n",
              "    <tr>\n",
              "      <th>a</th>\n",
              "      <td>81.821282</td>\n",
              "      <td>56</td>\n",
              "    </tr>\n",
              "    <tr>\n",
              "      <th>a</th>\n",
              "      <td>82.708425</td>\n",
              "      <td>53</td>\n",
              "    </tr>\n",
              "    <tr>\n",
              "      <th>a</th>\n",
              "      <td>83.680532</td>\n",
              "      <td>58</td>\n",
              "    </tr>\n",
              "  </tbody>\n",
              "</table>\n",
              "</div>"
            ],
            "text/plain": [
              "               valor  vendas\n",
              "categoria                   \n",
              "a          80.896372      62\n",
              "a          81.383281      57\n",
              "a          81.821282      56\n",
              "a          82.708425      53\n",
              "a          83.680532      58"
            ]
          },
          "metadata": {
            "tags": []
          },
          "execution_count": 205
        }
      ]
    },
    {
      "cell_type": "markdown",
      "metadata": {
        "id": "PGogwN-IBHYp",
        "colab_type": "text"
      },
      "source": [
        "## Gráficos embutidos no Pandas (Usa Matplotlib internamente)"
      ]
    },
    {
      "cell_type": "code",
      "metadata": {
        "id": "BTg5oi46BNzm",
        "colab_type": "code",
        "colab": {}
      },
      "source": [
        ""
      ],
      "execution_count": 0,
      "outputs": []
    },
    {
      "cell_type": "markdown",
      "metadata": {
        "id": "mW0ig528DKrn",
        "colab_type": "text"
      },
      "source": [
        "Tipos de Gráficos embutidos no pandas:\n",
        "<pre>\n",
        "df.plot.hist()     histogram\n",
        "df.plot.bar()      bar chart\n",
        "df.plot.barh()     horizontal bar chart\n",
        "df.plot.line()     line chart\n",
        "df.plot.area()     area chart\n",
        "df.plot.scatter()  scatter plot\n",
        "df.plot.box()      box plot\n",
        "df.plot.kde()      kde plot\n",
        "df.plot.hexbin()   hexagonal bin plot\n",
        "df.plot.pie()      pie chart</pre>\n",
        "\n",
        "\n",
        "\n"
      ]
    },
    {
      "cell_type": "code",
      "metadata": {
        "id": "MTlWUSyTDTL0",
        "colab_type": "code",
        "outputId": "42f0c1cf-9d33-4da4-9cad-1d4df2edd3a3",
        "colab": {
          "base_uri": "https://localhost:8080/",
          "height": 281
        }
      },
      "source": [
        "df_simulado['vendas'].plot.hist()\n",
        "plt.grid(True)\n",
        "plt.title('Vendas')\n",
        "plt.show()"
      ],
      "execution_count": 0,
      "outputs": [
        {
          "output_type": "display_data",
          "data": {
            "image/png": "[encoded data removed]",
            "text/plain": [
              "<Figure size 432x288 with 1 Axes>"
            ]
          },
          "metadata": {
            "tags": [],
            "needs_background": "light"
          }
        }
      ]
    },
    {
      "cell_type": "markdown",
      "metadata": {
        "id": "dnToEskxDUBB",
        "colab_type": "text"
      },
      "source": [
        "É conveniente executar plt.show() após o gráfico (Veremos que se quisermos sobrepor gráficos, isso será necessário). Exemplo com plt.show(), adicionando também o grid."
      ]
    },
    {
      "cell_type": "code",
      "metadata": {
        "id": "_IdLhrT0hRPQ",
        "colab_type": "code",
        "outputId": "7faadfef-e08b-46d3-c996-4275375a8cb1",
        "colab": {
          "base_uri": "https://localhost:8080/",
          "height": 545
        }
      },
      "source": [
        "df_simulado[df_simulado.categoria=='a']['vendas'].plot.hist()\n",
        "plt.grid(True)\n",
        "plt.title('categoria=a')\n",
        "plt.show()\n",
        "\n",
        "df_simulado[df_simulado.categoria=='b']['vendas'].plot.hist()\n",
        "plt.title('categoria=b')\n",
        "plt.grid(True)\n",
        "plt.show()\n"
      ],
      "execution_count": 0,
      "outputs": [
        {
          "output_type": "display_data",
          "data": {
            "image/png": "[encoded data removed]",
            "text/plain": [
              "<Figure size 432x288 with 1 Axes>"
            ]
          },
          "metadata": {
            "tags": [],
            "needs_background": "light"
          }
        },
        {
          "output_type": "display_data",
          "data": {
            "image/png": "[encoded data removed]",
            "text/plain": [
              "<Figure size 432x288 with 1 Axes>"
            ]
          },
          "metadata": {
            "tags": [],
            "needs_background": "light"
          }
        }
      ]
    },
    {
      "cell_type": "markdown",
      "metadata": {
        "id": "AHm5yNMsEGz1",
        "colab_type": "text"
      },
      "source": [
        "Faremos os gráficos sobrepostos agora."
      ]
    },
    {
      "cell_type": "code",
      "metadata": {
        "id": "2aujzxL_EFY9",
        "colab_type": "code",
        "outputId": "2be5e0d2-cdd7-4ede-d95e-34f60dcfa2e4",
        "colab": {
          "base_uri": "https://localhost:8080/",
          "height": 541
        }
      },
      "source": [
        "fig, ax = plt.subplots()\n",
        "\n",
        "df_simulado[df_simulado.categoria=='a']['vendas'].plot.hist(ax=ax)\n",
        "df_simulado[df_simulado.categoria=='b']['vendas'].plot.hist(ax=ax)\n",
        "df_simulado[df_simulado.categoria=='c']['vendas'].plot.hist(ax=ax)\n",
        "df_simulado[df_simulado.categoria=='d']['vendas'].plot.hist(ax=ax)\n",
        "plt.grid(True)\n",
        "plt.xlabel('vendas')\n",
        "plt.show()\n",
        "\n",
        "fig, ax = plt.subplots()\n",
        "df_simulado[df_simulado.categoria=='a']['valor'].plot.hist(ax=ax)\n",
        "df_simulado[df_simulado.categoria=='b']['valor'].plot.hist(ax=ax)\n",
        "df_simulado[df_simulado.categoria=='c']['valor'].plot.hist(ax=ax)\n",
        "df_simulado[df_simulado.categoria=='d']['valor'].plot.hist(ax=ax)\n",
        "plt.xlabel('valor')\n",
        "plt.grid(True)\n",
        "plt.show()"
      ],
      "execution_count": 0,
      "outputs": [
        {
          "output_type": "display_data",
          "data": {
            "image/png": "[encoded data removed]",
            "text/plain": [
              "<Figure size 432x288 with 1 Axes>"
            ]
          },
          "metadata": {
            "tags": [],
            "needs_background": "light"
          }
        },
        {
          "output_type": "display_data",
          "data": {
            "image/png": "[encoded data removed]",
            "text/plain": [
              "<Figure size 432x288 with 1 Axes>"
            ]
          },
          "metadata": {
            "tags": [],
            "needs_background": "light"
          }
        }
      ]
    },
    {
      "cell_type": "markdown",
      "metadata": {
        "id": "q0Z_q8lpFyHS",
        "colab_type": "text"
      },
      "source": [
        "Podemos criar um gráfico de densidade também."
      ]
    },
    {
      "cell_type": "code",
      "metadata": {
        "id": "9fGZa-KAhRRy",
        "colab_type": "code",
        "outputId": "9216a0bf-ce2c-42a5-92ae-8f8a9ed0dfa0",
        "colab": {
          "base_uri": "https://localhost:8080/",
          "height": 542
        }
      },
      "source": [
        "fig, ax = plt.subplots()\n",
        "\n",
        "df_simulado[df_simulado.categoria=='a']['valor'].plot.hist(ax=ax,density=False)\n",
        "df_simulado[df_simulado.categoria=='b']['valor'].plot.hist(ax=ax,density=False)\n",
        "df_simulado[df_simulado.categoria=='c']['valor'].plot.hist(ax=ax,density=False)\n",
        "df_simulado[df_simulado.categoria=='d']['valor'].plot.hist(ax=ax,density=False)\n",
        "plt.grid(True)\n",
        "plt.xlabel('valor')\n",
        "plt.show()\n",
        "\n",
        "fig, ax = plt.subplots()\n",
        "df_simulado[df_simulado.categoria=='a']['valor'].plot.hist(ax=ax,density=True)\n",
        "df_simulado[df_simulado.categoria=='b']['valor'].plot.hist(ax=ax,density=True)\n",
        "df_simulado[df_simulado.categoria=='c']['valor'].plot.hist(ax=ax,density=True)\n",
        "df_simulado[df_simulado.categoria=='d']['valor'].plot.hist(ax=ax,density=True)\n",
        "plt.xlabel('valor')\n",
        "plt.grid(True)\n",
        "plt.show()"
      ],
      "execution_count": 0,
      "outputs": [
        {
          "output_type": "display_data",
          "data": {
            "image/png": "[encoded data removed]",
            "text/plain": [
              "<Figure size 432x288 with 1 Axes>"
            ]
          },
          "metadata": {
            "tags": [],
            "needs_background": "light"
          }
        },
        {
          "output_type": "display_data",
          "data": {
            "image/png": "[encoded data removed]",
            "text/plain": [
              "<Figure size 432x288 with 1 Axes>"
            ]
          },
          "metadata": {
            "tags": [],
            "needs_background": "light"
          }
        }
      ]
    },
    {
      "cell_type": "markdown",
      "metadata": {
        "id": "ZnGS9By8DraD",
        "colab_type": "text"
      },
      "source": [
        "Exemplo por classe"
      ]
    },
    {
      "cell_type": "markdown",
      "metadata": {
        "id": "8dJBaW3gT3vg",
        "colab_type": "text"
      },
      "source": [
        "## Barras"
      ]
    },
    {
      "cell_type": "code",
      "metadata": {
        "id": "uiEY3yoTMWfG",
        "colab_type": "code",
        "outputId": "e837f49c-ea68-4368-dc74-ebef0fca13e1",
        "colab": {
          "base_uri": "https://localhost:8080/",
          "height": 537
        }
      },
      "source": [
        "df_simulado.groupby('categoria').agg('count').plot.bar();\n",
        "plt.ylabel('counts')\n",
        "plt.grid()\n",
        "\n",
        "df_simulado.groupby('categoria').agg('mean').plot.bar();\n",
        "plt.ylabel('mean')\n",
        "plt.grid()"
      ],
      "execution_count": 0,
      "outputs": [
        {
          "output_type": "display_data",
          "data": {
            "image/png": "[encoded data removed]",
            "text/plain": [
              "<Figure size 432x288 with 1 Axes>"
            ]
          },
          "metadata": {
            "tags": [],
            "needs_background": "light"
          }
        },
        {
          "output_type": "display_data",
          "data": {
            "image/png": "[encoded data removed]",
            "text/plain": [
              "<Figure size 432x288 with 1 Axes>"
            ]
          },
          "metadata": {
            "tags": [],
            "needs_background": "light"
          }
        }
      ]
    },
    {
      "cell_type": "markdown",
      "metadata": {
        "id": "ay_W0GX_T1Zm",
        "colab_type": "text"
      },
      "source": [
        "## BoxPlot"
      ]
    },
    {
      "cell_type": "code",
      "metadata": {
        "id": "0t6L_3ETSQdd",
        "colab_type": "code",
        "outputId": "1d9ecb89-a7bd-4689-a4bd-69dbe7a031f4",
        "colab": {
          "base_uri": "https://localhost:8080/",
          "height": 265
        }
      },
      "source": [
        "df_simulado.groupby('categoria').agg('mean').plot.box();\n",
        "plt.ylabel('mean')\n",
        "plt.grid()"
      ],
      "execution_count": 0,
      "outputs": [
        {
          "output_type": "display_data",
          "data": {
            "image/png": "[encoded data removed]",
            "text/plain": [
              "<Figure size 432x288 with 1 Axes>"
            ]
          },
          "metadata": {
            "tags": [],
            "needs_background": "light"
          }
        }
      ]
    },
    {
      "cell_type": "code",
      "metadata": {
        "id": "IXw9zZePTpcL",
        "colab_type": "code",
        "outputId": "f7c50c46-d934-4302-dc15-71a5f2a970a1",
        "colab": {
          "base_uri": "https://localhost:8080/",
          "height": 585
        }
      },
      "source": [
        "df_simulado[['categoria','valor']].boxplot(by='categoria')\n",
        "plt.show()\n",
        "\n",
        "df_simulado[['categoria','vendas']].boxplot(by='categoria')\n",
        "plt.show()"
      ],
      "execution_count": 0,
      "outputs": [
        {
          "output_type": "display_data",
          "data": {
            "image/png": "[encoded data removed]",
            "text/plain": [
              "<Figure size 432x288 with 1 Axes>"
            ]
          },
          "metadata": {
            "tags": [],
            "needs_background": "light"
          }
        },
        {
          "output_type": "display_data",
          "data": {
            "image/png": "[encoded data removed]",
            "text/plain": [
              "<Figure size 432x288 with 1 Axes>"
            ]
          },
          "metadata": {
            "tags": [],
            "needs_background": "light"
          }
        }
      ]
    },
    {
      "cell_type": "code",
      "metadata": {
        "id": "eNGlIPG9T7cP",
        "colab_type": "code",
        "outputId": "50ac2d1e-84d9-41e3-b216-603270d8dd85",
        "colab": {
          "base_uri": "https://localhost:8080/",
          "height": 513
        }
      },
      "source": [
        "df_simulado[df_simulado.categoria=='a']['valor'].plot.kde()\n",
        "\n",
        "fig, ax = plt.subplots()\n",
        "\n",
        "df_simulado[df_simulado.categoria=='a']['valor'].plot.hist(ax=ax,density=True)\n",
        "df_simulado[df_simulado.categoria=='a']['valor'].plot.kde(ax=ax)\n",
        "plt.show()"
      ],
      "execution_count": 0,
      "outputs": [
        {
          "output_type": "display_data",
          "data": {
            "image/png": "[encoded data removed]",
            "text/plain": [
              "<Figure size 432x288 with 1 Axes>"
            ]
          },
          "metadata": {
            "tags": [],
            "needs_background": "light"
          }
        },
        {
          "output_type": "display_data",
          "data": {
            "image/png": "[encoded data removed]",
            "text/plain": [
              "<Figure size 432x288 with 1 Axes>"
            ]
          },
          "metadata": {
            "tags": [],
            "needs_background": "light"
          }
        }
      ]
    },
    {
      "cell_type": "markdown",
      "metadata": {
        "id": "n-nalNg0hUMh",
        "colab_type": "text"
      },
      "source": [
        "## Explorando um site com tabelas"
      ]
    },
    {
      "cell_type": "code",
      "metadata": {
        "id": "DK2nvP-GfagL",
        "colab_type": "code",
        "colab": {}
      },
      "source": [
        "df_html = pd.read_html('http://www.fdic.gov/bank/individual/failed/banklist.html')"
      ],
      "execution_count": 0,
      "outputs": []
    },
    {
      "cell_type": "code",
      "metadata": {
        "id": "BuXoTbW2fmjr",
        "colab_type": "code",
        "outputId": "5f930ca4-803e-4edc-ec16-967043f5e1b2",
        "colab": {
          "base_uri": "https://localhost:8080/",
          "height": 204
        }
      },
      "source": [
        "df_html[0].head()"
      ],
      "execution_count": 0,
      "outputs": [
        {
          "output_type": "execute_result",
          "data": {
            "text/html": [
              "<div>\n",
              "<style scoped>\n",
              "    .dataframe tbody tr th:only-of-type {\n",
              "        vertical-align: middle;\n",
              "    }\n",
              "\n",
              "    .dataframe tbody tr th {\n",
              "        vertical-align: top;\n",
              "    }\n",
              "\n",
              "    .dataframe thead th {\n",
              "        text-align: right;\n",
              "    }\n",
              "</style>\n",
              "<table border=\"1\" class=\"dataframe\">\n",
              "  <thead>\n",
              "    <tr style=\"text-align: right;\">\n",
              "      <th></th>\n",
              "      <th>Bank Name</th>\n",
              "      <th>City</th>\n",
              "      <th>ST</th>\n",
              "      <th>CERT</th>\n",
              "      <th>Acquiring Institution</th>\n",
              "      <th>Closing Date</th>\n",
              "    </tr>\n",
              "  </thead>\n",
              "  <tbody>\n",
              "    <tr>\n",
              "      <th>0</th>\n",
              "      <td>The First State Bank</td>\n",
              "      <td>Barboursville</td>\n",
              "      <td>WV</td>\n",
              "      <td>14361</td>\n",
              "      <td>MVB Bank, Inc.</td>\n",
              "      <td>April 3, 2020</td>\n",
              "    </tr>\n",
              "    <tr>\n",
              "      <th>1</th>\n",
              "      <td>Ericson State Bank</td>\n",
              "      <td>Ericson</td>\n",
              "      <td>NE</td>\n",
              "      <td>18265</td>\n",
              "      <td>Farmers and Merchants Bank</td>\n",
              "      <td>February 14, 2020</td>\n",
              "    </tr>\n",
              "    <tr>\n",
              "      <th>2</th>\n",
              "      <td>City National Bank of New Jersey</td>\n",
              "      <td>Newark</td>\n",
              "      <td>NJ</td>\n",
              "      <td>21111</td>\n",
              "      <td>Industrial Bank</td>\n",
              "      <td>November 1, 2019</td>\n",
              "    </tr>\n",
              "    <tr>\n",
              "      <th>3</th>\n",
              "      <td>Resolute Bank</td>\n",
              "      <td>Maumee</td>\n",
              "      <td>OH</td>\n",
              "      <td>58317</td>\n",
              "      <td>Buckeye State Bank</td>\n",
              "      <td>October 25, 2019</td>\n",
              "    </tr>\n",
              "    <tr>\n",
              "      <th>4</th>\n",
              "      <td>Louisa Community Bank</td>\n",
              "      <td>Louisa</td>\n",
              "      <td>KY</td>\n",
              "      <td>58112</td>\n",
              "      <td>Kentucky Farmers Bank Corporation</td>\n",
              "      <td>October 25, 2019</td>\n",
              "    </tr>\n",
              "  </tbody>\n",
              "</table>\n",
              "</div>"
            ],
            "text/plain": [
              "                          Bank Name  ...       Closing Date\n",
              "0              The First State Bank  ...      April 3, 2020\n",
              "1                Ericson State Bank  ...  February 14, 2020\n",
              "2  City National Bank of New Jersey  ...   November 1, 2019\n",
              "3                     Resolute Bank  ...   October 25, 2019\n",
              "4             Louisa Community Bank  ...   October 25, 2019\n",
              "\n",
              "[5 rows x 6 columns]"
            ]
          },
          "metadata": {
            "tags": []
          },
          "execution_count": 223
        }
      ]
    },
    {
      "cell_type": "markdown",
      "metadata": {
        "id": "pOdFm2FlSC66",
        "colab_type": "text"
      },
      "source": [
        "## Por exemplo Leaderboard do Hackaton"
      ]
    },
    {
      "cell_type": "code",
      "metadata": {
        "id": "kCOTyHWUfmof",
        "colab_type": "code",
        "colab": {}
      },
      "source": [
        "df_html3=pd.read_html('http://leaderboard.hackaton.dotz.com.br/')"
      ],
      "execution_count": 0,
      "outputs": []
    },
    {
      "cell_type": "code",
      "metadata": {
        "id": "gUkoLvP5nF6M",
        "colab_type": "code",
        "outputId": "8792e877-8d62-4a92-cf7a-06706ac4d967",
        "colab": {
          "base_uri": "https://localhost:8080/",
          "height": 204
        }
      },
      "source": [
        "df_html3[0].head()"
      ],
      "execution_count": 0,
      "outputs": [
        {
          "output_type": "execute_result",
          "data": {
            "text/html": [
              "<div>\n",
              "<style scoped>\n",
              "    .dataframe tbody tr th:only-of-type {\n",
              "        vertical-align: middle;\n",
              "    }\n",
              "\n",
              "    .dataframe tbody tr th {\n",
              "        vertical-align: top;\n",
              "    }\n",
              "\n",
              "    .dataframe thead th {\n",
              "        text-align: right;\n",
              "    }\n",
              "</style>\n",
              "<table border=\"1\" class=\"dataframe\">\n",
              "  <thead>\n",
              "    <tr style=\"text-align: right;\">\n",
              "      <th></th>\n",
              "      <th>No</th>\n",
              "      <th>username</th>\n",
              "      <th>score</th>\n",
              "      <th>total_submission</th>\n",
              "      <th>last_sub</th>\n",
              "    </tr>\n",
              "  </thead>\n",
              "  <tbody>\n",
              "    <tr>\n",
              "      <th>0</th>\n",
              "      <td>1</td>\n",
              "      <td>hahaaenois</td>\n",
              "      <td>0.8656</td>\n",
              "      <td>104</td>\n",
              "      <td>2020-06-10 02:31:01.901253</td>\n",
              "    </tr>\n",
              "    <tr>\n",
              "      <th>1</th>\n",
              "      <td>2</td>\n",
              "      <td>felipepolo</td>\n",
              "      <td>0.8636</td>\n",
              "      <td>15</td>\n",
              "      <td>2020-06-08 18:38:55.739716</td>\n",
              "    </tr>\n",
              "    <tr>\n",
              "      <th>2</th>\n",
              "      <td>3</td>\n",
              "      <td>rassacaaso</td>\n",
              "      <td>0.8611</td>\n",
              "      <td>15</td>\n",
              "      <td>2020-06-09 21:04:36.655024</td>\n",
              "    </tr>\n",
              "    <tr>\n",
              "      <th>3</th>\n",
              "      <td>4</td>\n",
              "      <td>lucio</td>\n",
              "      <td>0.8518</td>\n",
              "      <td>19</td>\n",
              "      <td>2020-06-10 00:33:09.020209</td>\n",
              "    </tr>\n",
              "    <tr>\n",
              "      <th>4</th>\n",
              "      <td>5</td>\n",
              "      <td>janeausten</td>\n",
              "      <td>0.8493</td>\n",
              "      <td>17</td>\n",
              "      <td>2020-06-09 14:22:22.252264</td>\n",
              "    </tr>\n",
              "  </tbody>\n",
              "</table>\n",
              "</div>"
            ],
            "text/plain": [
              "   No    username   score  total_submission                    last_sub\n",
              "0   1  hahaaenois  0.8656               104  2020-06-10 02:31:01.901253\n",
              "1   2  felipepolo  0.8636                15  2020-06-08 18:38:55.739716\n",
              "2   3  rassacaaso  0.8611                15  2020-06-09 21:04:36.655024\n",
              "3   4       lucio  0.8518                19  2020-06-10 00:33:09.020209\n",
              "4   5  janeausten  0.8493                17  2020-06-09 14:22:22.252264"
            ]
          },
          "metadata": {
            "tags": []
          },
          "execution_count": 225
        }
      ]
    },
    {
      "cell_type": "code",
      "metadata": {
        "id": "Yu3NdBLfsCXn",
        "colab_type": "code",
        "outputId": "6c0f72a3-2df6-44c0-ff72-009d7c735155",
        "colab": {
          "base_uri": "https://localhost:8080/",
          "height": 125
        }
      },
      "source": [
        "df_html3[0].dtypes"
      ],
      "execution_count": 0,
      "outputs": [
        {
          "output_type": "execute_result",
          "data": {
            "text/plain": [
              "No                    int64\n",
              "username             object\n",
              "score               float64\n",
              "total_submission      int64\n",
              "last_sub             object\n",
              "dtype: object"
            ]
          },
          "metadata": {
            "tags": []
          },
          "execution_count": 226
        }
      ]
    },
    {
      "cell_type": "code",
      "metadata": {
        "id": "Y5dOg1t8r5SJ",
        "colab_type": "code",
        "outputId": "22675e86-53e7-4bb3-ca4b-e622b0143097",
        "colab": {
          "base_uri": "https://localhost:8080/",
          "height": 513
        }
      },
      "source": [
        "df_html3[0]['score'].plot.hist()\n",
        "plt.grid(True)\n",
        "plt.show()\n",
        "\n",
        "df_html3[0]['total_submission'].plot.hist()\n",
        "plt.grid(True)\n",
        "plt.show()"
      ],
      "execution_count": 0,
      "outputs": [
        {
          "output_type": "display_data",
          "data": {
            "image/png": "[encoded data removed]",
            "text/plain": [
              "<Figure size 432x288 with 1 Axes>"
            ]
          },
          "metadata": {
            "tags": [],
            "needs_background": "light"
          }
        },
        {
          "output_type": "display_data",
          "data": {
            "image/png": "[encoded data removed]",
            "text/plain": [
              "<Figure size 432x288 with 1 Axes>"
            ]
          },
          "metadata": {
            "tags": [],
            "needs_background": "light"
          }
        }
      ]
    },
    {
      "cell_type": "code",
      "metadata": {
        "id": "SzZsoXYDfais",
        "colab_type": "code",
        "outputId": "0db4ead3-b37e-4da3-8b00-06d4e9a35b6e",
        "colab": {
          "base_uri": "https://localhost:8080/",
          "height": 204
        }
      },
      "source": [
        "# from google.colab import drive\n",
        "# drive.mount('/content/gdrive')\n",
        "\n",
        "df = pd.read_csv('https://raw.githubusercontent.com/mfiguere/Colab/master/starbucks.csv')\n",
        "df.head()"
      ],
      "execution_count": 4,
      "outputs": [
        {
          "output_type": "execute_result",
          "data": {
            "text/html": [
              "<div>\n",
              "<style scoped>\n",
              "    .dataframe tbody tr th:only-of-type {\n",
              "        vertical-align: middle;\n",
              "    }\n",
              "\n",
              "    .dataframe tbody tr th {\n",
              "        vertical-align: top;\n",
              "    }\n",
              "\n",
              "    .dataframe thead th {\n",
              "        text-align: right;\n",
              "    }\n",
              "</style>\n",
              "<table border=\"1\" class=\"dataframe\">\n",
              "  <thead>\n",
              "    <tr style=\"text-align: right;\">\n",
              "      <th></th>\n",
              "      <th>Date</th>\n",
              "      <th>Close</th>\n",
              "      <th>Volume</th>\n",
              "    </tr>\n",
              "  </thead>\n",
              "  <tbody>\n",
              "    <tr>\n",
              "      <th>0</th>\n",
              "      <td>2015-01-02</td>\n",
              "      <td>38.0061</td>\n",
              "      <td>6906098</td>\n",
              "    </tr>\n",
              "    <tr>\n",
              "      <th>1</th>\n",
              "      <td>2015-01-05</td>\n",
              "      <td>37.2781</td>\n",
              "      <td>11623796</td>\n",
              "    </tr>\n",
              "    <tr>\n",
              "      <th>2</th>\n",
              "      <td>2015-01-06</td>\n",
              "      <td>36.9748</td>\n",
              "      <td>7664340</td>\n",
              "    </tr>\n",
              "    <tr>\n",
              "      <th>3</th>\n",
              "      <td>2015-01-07</td>\n",
              "      <td>37.8848</td>\n",
              "      <td>9732554</td>\n",
              "    </tr>\n",
              "    <tr>\n",
              "      <th>4</th>\n",
              "      <td>2015-01-08</td>\n",
              "      <td>38.4961</td>\n",
              "      <td>13170548</td>\n",
              "    </tr>\n",
              "  </tbody>\n",
              "</table>\n",
              "</div>"
            ],
            "text/plain": [
              "         Date    Close    Volume\n",
              "0  2015-01-02  38.0061   6906098\n",
              "1  2015-01-05  37.2781  11623796\n",
              "2  2015-01-06  36.9748   7664340\n",
              "3  2015-01-07  37.8848   9732554\n",
              "4  2015-01-08  38.4961  13170548"
            ]
          },
          "metadata": {
            "tags": []
          },
          "execution_count": 4
        }
      ]
    },
    {
      "cell_type": "code",
      "metadata": {
        "id": "Ihdx_zbdC-fy",
        "colab_type": "code",
        "outputId": "bd04e217-7437-41a3-de1a-02dd507b810f",
        "colab": {
          "base_uri": "https://localhost:8080/",
          "height": 283
        }
      },
      "source": [
        "df['Close'].plot.hist()"
      ],
      "execution_count": 0,
      "outputs": [
        {
          "output_type": "execute_result",
          "data": {
            "text/plain": [
              "<matplotlib.axes._subplots.AxesSubplot at 0x7f40e0872ef0>"
            ]
          },
          "metadata": {
            "tags": []
          },
          "execution_count": 11
        },
        {
          "output_type": "display_data",
          "data": {
            "image/png": "[encoded data removed]",
            "text/plain": [
              "<Figure size 432x288 with 1 Axes>"
            ]
          },
          "metadata": {
            "tags": [],
            "needs_background": "light"
          }
        }
      ]
    },
    {
      "cell_type": "code",
      "metadata": {
        "id": "AKXF09VoGXaH",
        "colab_type": "code",
        "outputId": "b4689e02-c238-4937-f34f-424b083ba693",
        "colab": {
          "base_uri": "https://localhost:8080/",
          "height": 298
        }
      },
      "source": [
        "df['Volume'].plot.hist()"
      ],
      "execution_count": 0,
      "outputs": [
        {
          "output_type": "execute_result",
          "data": {
            "text/plain": [
              "<matplotlib.axes._subplots.AxesSubplot at 0x7f40e0784a90>"
            ]
          },
          "metadata": {
            "tags": []
          },
          "execution_count": 12
        },
        {
          "output_type": "display_data",
          "data": {
            "image/png": "[encoded data removed]",
            "text/plain": [
              "<Figure size 432x288 with 1 Axes>"
            ]
          },
          "metadata": {
            "tags": [],
            "needs_background": "light"
          }
        }
      ]
    },
    {
      "cell_type": "code",
      "metadata": {
        "id": "WTLXPBa6DDC6",
        "colab_type": "code",
        "colab": {}
      },
      "source": [
        ""
      ],
      "execution_count": 0,
      "outputs": []
    },
    {
      "cell_type": "code",
      "metadata": {
        "id": "dkMNcYpQHrd5",
        "colab_type": "code",
        "colab": {}
      },
      "source": [
        "df_ts=df.set_index('Date')"
      ],
      "execution_count": 0,
      "outputs": []
    },
    {
      "cell_type": "code",
      "metadata": {
        "id": "zNAaosfoH1AV",
        "colab_type": "code",
        "colab": {}
      },
      "source": [
        ""
      ],
      "execution_count": 0,
      "outputs": []
    },
    {
      "cell_type": "markdown",
      "metadata": {
        "id": "1bkF3u15H3dW",
        "colab_type": "text"
      },
      "source": [
        "# Time Series"
      ]
    },
    {
      "cell_type": "code",
      "metadata": {
        "id": "BRnKJq4MHsDQ",
        "colab_type": "code",
        "outputId": "2fdd4025-4c46-445d-e2fa-46025b3a0b76",
        "colab": {
          "base_uri": "https://localhost:8080/",
          "height": 450
        }
      },
      "source": [
        "df_ts"
      ],
      "execution_count": 8,
      "outputs": [
        {
          "output_type": "execute_result",
          "data": {
            "text/html": [
              "<div>\n",
              "<style scoped>\n",
              "    .dataframe tbody tr th:only-of-type {\n",
              "        vertical-align: middle;\n",
              "    }\n",
              "\n",
              "    .dataframe tbody tr th {\n",
              "        vertical-align: top;\n",
              "    }\n",
              "\n",
              "    .dataframe thead th {\n",
              "        text-align: right;\n",
              "    }\n",
              "</style>\n",
              "<table border=\"1\" class=\"dataframe\">\n",
              "  <thead>\n",
              "    <tr style=\"text-align: right;\">\n",
              "      <th></th>\n",
              "      <th>Close</th>\n",
              "      <th>Volume</th>\n",
              "    </tr>\n",
              "    <tr>\n",
              "      <th>Date</th>\n",
              "      <th></th>\n",
              "      <th></th>\n",
              "    </tr>\n",
              "  </thead>\n",
              "  <tbody>\n",
              "    <tr>\n",
              "      <th>2015-01-02</th>\n",
              "      <td>38.0061</td>\n",
              "      <td>6906098</td>\n",
              "    </tr>\n",
              "    <tr>\n",
              "      <th>2015-01-05</th>\n",
              "      <td>37.2781</td>\n",
              "      <td>11623796</td>\n",
              "    </tr>\n",
              "    <tr>\n",
              "      <th>2015-01-06</th>\n",
              "      <td>36.9748</td>\n",
              "      <td>7664340</td>\n",
              "    </tr>\n",
              "    <tr>\n",
              "      <th>2015-01-07</th>\n",
              "      <td>37.8848</td>\n",
              "      <td>9732554</td>\n",
              "    </tr>\n",
              "    <tr>\n",
              "      <th>2015-01-08</th>\n",
              "      <td>38.4961</td>\n",
              "      <td>13170548</td>\n",
              "    </tr>\n",
              "    <tr>\n",
              "      <th>...</th>\n",
              "      <td>...</td>\n",
              "      <td>...</td>\n",
              "    </tr>\n",
              "    <tr>\n",
              "      <th>2018-12-24</th>\n",
              "      <td>60.5600</td>\n",
              "      <td>6323252</td>\n",
              "    </tr>\n",
              "    <tr>\n",
              "      <th>2018-12-26</th>\n",
              "      <td>63.0800</td>\n",
              "      <td>16646238</td>\n",
              "    </tr>\n",
              "    <tr>\n",
              "      <th>2018-12-27</th>\n",
              "      <td>63.2000</td>\n",
              "      <td>11308081</td>\n",
              "    </tr>\n",
              "    <tr>\n",
              "      <th>2018-12-28</th>\n",
              "      <td>63.3900</td>\n",
              "      <td>7712127</td>\n",
              "    </tr>\n",
              "    <tr>\n",
              "      <th>2018-12-31</th>\n",
              "      <td>64.4000</td>\n",
              "      <td>7690183</td>\n",
              "    </tr>\n",
              "  </tbody>\n",
              "</table>\n",
              "<p>1006 rows × 2 columns</p>\n",
              "</div>"
            ],
            "text/plain": [
              "              Close    Volume\n",
              "Date                         \n",
              "2015-01-02  38.0061   6906098\n",
              "2015-01-05  37.2781  11623796\n",
              "2015-01-06  36.9748   7664340\n",
              "2015-01-07  37.8848   9732554\n",
              "2015-01-08  38.4961  13170548\n",
              "...             ...       ...\n",
              "2018-12-24  60.5600   6323252\n",
              "2018-12-26  63.0800  16646238\n",
              "2018-12-27  63.2000  11308081\n",
              "2018-12-28  63.3900   7712127\n",
              "2018-12-31  64.4000   7690183\n",
              "\n",
              "[1006 rows x 2 columns]"
            ]
          },
          "metadata": {
            "tags": []
          },
          "execution_count": 8
        }
      ]
    },
    {
      "cell_type": "code",
      "metadata": {
        "id": "UQoTr_MZHzWP",
        "colab_type": "code",
        "outputId": "b840ac51-9ace-49b4-b87a-0432bef170c8",
        "colab": {
          "base_uri": "https://localhost:8080/",
          "height": 35
        }
      },
      "source": [
        "df_ts.index.max()"
      ],
      "execution_count": 9,
      "outputs": [
        {
          "output_type": "execute_result",
          "data": {
            "text/plain": [
              "'2018-12-31'"
            ]
          },
          "metadata": {
            "tags": []
          },
          "execution_count": 9
        }
      ]
    },
    {
      "cell_type": "code",
      "metadata": {
        "id": "hO5UxOH8IAX9",
        "colab_type": "code",
        "outputId": "82cdc285-e09b-4546-b8c6-101de02764ff",
        "colab": {
          "base_uri": "https://localhost:8080/",
          "height": 35
        }
      },
      "source": [
        "df_ts.index.min()"
      ],
      "execution_count": 10,
      "outputs": [
        {
          "output_type": "execute_result",
          "data": {
            "text/plain": [
              "'2015-01-02'"
            ]
          },
          "metadata": {
            "tags": []
          },
          "execution_count": 10
        }
      ]
    },
    {
      "cell_type": "code",
      "metadata": {
        "id": "roDzukw-IeIz",
        "colab_type": "code",
        "outputId": "ca7a206c-c68b-4cd9-9e40-6ca9bebbf2f2",
        "colab": {
          "base_uri": "https://localhost:8080/",
          "height": 616
        }
      },
      "source": [
        "df_ts['Volume'].plot(figsize=(20,10))\n",
        "plt.ylabel('Close')\n",
        "plt.grid()"
      ],
      "execution_count": 14,
      "outputs": [
        {
          "output_type": "display_data",
          "data": {
            "image/png": "[encoded data removed]",
            "text/plain": [
              "<Figure size 1440x720 with 1 Axes>"
            ]
          },
          "metadata": {
            "tags": [],
            "needs_background": "light"
          }
        }
      ]
    },
    {
      "cell_type": "code",
      "metadata": {
        "id": "-GREQuxSIg1N",
        "colab_type": "code",
        "outputId": "41d2eaec-01ec-4b6f-dc0d-1fd043472394",
        "colab": {
          "base_uri": "https://localhost:8080/",
          "height": 624
        }
      },
      "source": [
        "df_ts['Close'].plot(figsize=(20,10))\n",
        "plt.ylabel('Close')\n",
        "plt.grid()"
      ],
      "execution_count": 13,
      "outputs": [
        {
          "output_type": "execute_result",
          "data": {
            "text/plain": [
              "<matplotlib.axes._subplots.AxesSubplot at 0x7f4101e42128>"
            ]
          },
          "metadata": {
            "tags": []
          },
          "execution_count": 13
        },
        {
          "output_type": "display_data",
          "data": {
            "image/png": "[encoded data removed]",
            "text/plain": [
              "<Figure size 1440x720 with 1 Axes>"
            ]
          },
          "metadata": {
            "tags": [],
            "needs_background": "light"
          }
        }
      ]
    },
    {
      "cell_type": "code",
      "metadata": {
        "id": "PqYMK6GOIlMG",
        "colab_type": "code",
        "colab": {}
      },
      "source": [
        ""
      ],
      "execution_count": 0,
      "outputs": []
    }
  ]
}