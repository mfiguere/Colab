{
  "nbformat": 4,
  "nbformat_minor": 0,
  "metadata": {
    "colab": {
      "name": "Pandas_Visualization.ipynb",
      "provenance": [],
      "collapsed_sections": [],
      "authorship_tag": "ABX9TyPisjAEgNc2dxMUzrXYDsEx",
      "include_colab_link": true
    },
    "kernelspec": {
      "name": "python3",
      "display_name": "Python 3"
    }
  },
  "cells": [
    {
      "cell_type": "markdown",
      "metadata": {
        "id": "view-in-github",
        "colab_type": "text"
      },
      "source": [
        "<a href=\"https://colab.research.google.com/github/mfiguere/Colab/blob/master/Pandas_Visualization.ipynb\" target=\"_parent\"><img src=\"https://colab.research.google.com/assets/colab-badge.svg\" alt=\"Open In Colab\"/></a>"
      ]
    },
    {
      "cell_type": "code",
      "metadata": {
        "id": "XPpGRvKhCX0u",
        "colab_type": "code",
        "colab": {}
      },
      "source": [
        "import pandas as pd\n",
        "import numpy as np\n",
        "import random \n",
        "import matplotlib.pyplot as plt"
      ],
      "execution_count": 13,
      "outputs": []
    },
    {
      "cell_type": "code",
      "metadata": {
        "id": "M47HXewhwwK6",
        "colab_type": "code",
        "colab": {}
      },
      "source": [
        ""
      ],
      "execution_count": 13,
      "outputs": []
    },
    {
      "cell_type": "markdown",
      "metadata": {
        "id": "EEITXoilwziw",
        "colab_type": "text"
      },
      "source": [
        "# Python\n",
        "\n",
        "Link interessante:https://pythonprogramming.net/python-fundamental-tutorials/"
      ]
    },
    {
      "cell_type": "markdown",
      "metadata": {
        "id": "40J5rFvnxjis",
        "colab_type": "text"
      },
      "source": [
        "## Operações Básicas\n",
        "Variáveis Categóricas, inteiras, double, listas,  "
      ]
    },
    {
      "cell_type": "markdown",
      "metadata": {
        "id": "mjIPpvp9xpSR",
        "colab_type": "text"
      },
      "source": [
        "Em python, não é necessário definir o tipo de variável:"
      ]
    },
    {
      "cell_type": "code",
      "metadata": {
        "id": "HjYYG0otxow_",
        "colab_type": "code",
        "colab": {}
      },
      "source": [
        "x=1\n",
        "palavra='Dotz'\n",
        "z=1.2"
      ],
      "execution_count": 14,
      "outputs": []
    },
    {
      "cell_type": "code",
      "metadata": {
        "id": "O7-cPljcj2_T",
        "colab_type": "code",
        "colab": {
          "base_uri": "https://localhost:8080/",
          "height": 35
        },
        "outputId": "ea0ce6b8-b285-4810-e885-775689ad3ac3"
      },
      "source": [
        "# Impressão na tela das variáveis criadas\n",
        "print(x,palavra,z) "
      ],
      "execution_count": 15,
      "outputs": [
        {
          "output_type": "stream",
          "text": [
            "1 Dotz 1.2\n"
          ],
          "name": "stdout"
        }
      ]
    },
    {
      "cell_type": "code",
      "metadata": {
        "id": "HycEpRfYxhSv",
        "colab_type": "code",
        "colab": {
          "base_uri": "https://localhost:8080/",
          "height": 35
        },
        "outputId": "28ecb92c-220a-4351-aa46-4d0d12378928"
      },
      "source": [
        "# Tipos\n",
        "print(type(x),type(palavra),type(z)) "
      ],
      "execution_count": 16,
      "outputs": [
        {
          "output_type": "stream",
          "text": [
            "<class 'int'> <class 'str'> <class 'float'>\n"
          ],
          "name": "stdout"
        }
      ]
    },
    {
      "cell_type": "code",
      "metadata": {
        "id": "_gvsxS3oxfYf",
        "colab_type": "code",
        "colab": {}
      },
      "source": [
        "# Listas\n",
        "list_palavras=['carro','sorvete','pedra','ônibus','carro']\n",
        "list_palavras2=['carro','chave','sabão','Dotz','Dotz','pedra','Dotz2020']\n",
        "list_numeros=[1,2,3,3,4,6]"
      ],
      "execution_count": 17,
      "outputs": []
    },
    {
      "cell_type": "code",
      "metadata": {
        "id": "MNdAE5zwyo74",
        "colab_type": "code",
        "colab": {
          "base_uri": "https://localhost:8080/",
          "height": 35
        },
        "outputId": "853a0ba0-fda1-4e8d-a39a-f56a7ef0629a"
      },
      "source": [
        "print(list_palavras)"
      ],
      "execution_count": 18,
      "outputs": [
        {
          "output_type": "stream",
          "text": [
            "['carro', 'sorvete', 'pedra', 'ônibus', 'carro']\n"
          ],
          "name": "stdout"
        }
      ]
    },
    {
      "cell_type": "code",
      "metadata": {
        "id": "ebz0X1UAz_B2",
        "colab_type": "code",
        "colab": {
          "base_uri": "https://localhost:8080/",
          "height": 35
        },
        "outputId": "327dd81d-b236-414b-a0ca-427084a15044"
      },
      "source": [
        "print(list_palavras2)"
      ],
      "execution_count": 19,
      "outputs": [
        {
          "output_type": "stream",
          "text": [
            "['carro', 'chave', 'sabão', 'Dotz', 'Dotz', 'pedra', 'Dotz2020']\n"
          ],
          "name": "stdout"
        }
      ]
    },
    {
      "cell_type": "code",
      "metadata": {
        "id": "9A95-jW_yo-P",
        "colab_type": "code",
        "colab": {
          "base_uri": "https://localhost:8080/",
          "height": 35
        },
        "outputId": "07064005-5489-44c0-ab65-f9604c8ce9e5"
      },
      "source": [
        "print(list_numeros)"
      ],
      "execution_count": 20,
      "outputs": [
        {
          "output_type": "stream",
          "text": [
            "[1, 2, 3, 3, 4, 6]\n"
          ],
          "name": "stdout"
        }
      ]
    },
    {
      "cell_type": "code",
      "metadata": {
        "id": "W3g34KDoBc7F",
        "colab_type": "code",
        "colab": {}
      },
      "source": [
        ""
      ],
      "execution_count": 20,
      "outputs": []
    },
    {
      "cell_type": "markdown",
      "metadata": {
        "id": "CrOZkeeRxUc1",
        "colab_type": "text"
      },
      "source": [
        "## Numpy\n",
        "https://numpy.org/\n",
        "\n",
        "útil e eficiente para vários cálculos envolvendo vetores, matrizes, etc."
      ]
    },
    {
      "cell_type": "code",
      "metadata": {
        "id": "kDQLRZK9BdIS",
        "colab_type": "code",
        "colab": {
          "base_uri": "https://localhost:8080/",
          "height": 35
        },
        "outputId": "7b7a922c-1cc3-4ffc-81c5-2a8196cd36b6"
      },
      "source": [
        "np.sum(list_numeros)"
      ],
      "execution_count": 21,
      "outputs": [
        {
          "output_type": "execute_result",
          "data": {
            "text/plain": [
              "19"
            ]
          },
          "metadata": {
            "tags": []
          },
          "execution_count": 21
        }
      ]
    },
    {
      "cell_type": "code",
      "metadata": {
        "id": "kYApE4-CXxt_",
        "colab_type": "code",
        "colab": {}
      },
      "source": [
        "a=np.array(list_numeros)"
      ],
      "execution_count": 22,
      "outputs": []
    },
    {
      "cell_type": "code",
      "metadata": {
        "id": "6Ghkg_O_YCir",
        "colab_type": "code",
        "colab": {
          "base_uri": "https://localhost:8080/",
          "height": 35
        },
        "outputId": "cce74c9d-e30f-4144-eb3b-e54ab5be41df"
      },
      "source": [
        "a"
      ],
      "execution_count": 23,
      "outputs": [
        {
          "output_type": "execute_result",
          "data": {
            "text/plain": [
              "array([1, 2, 3, 3, 4, 6])"
            ]
          },
          "metadata": {
            "tags": []
          },
          "execution_count": 23
        }
      ]
    },
    {
      "cell_type": "code",
      "metadata": {
        "id": "WOXXMnLMXcEm",
        "colab_type": "code",
        "colab": {
          "base_uri": "https://localhost:8080/",
          "height": 35
        },
        "outputId": "a2f6af0e-2d94-478f-995c-b7f86598f532"
      },
      "source": [
        "np.where(a>2)"
      ],
      "execution_count": 24,
      "outputs": [
        {
          "output_type": "execute_result",
          "data": {
            "text/plain": [
              "(array([2, 3, 4, 5]),)"
            ]
          },
          "metadata": {
            "tags": []
          },
          "execution_count": 24
        }
      ]
    },
    {
      "cell_type": "code",
      "metadata": {
        "id": "Xx616mK9cxcW",
        "colab_type": "code",
        "colab": {
          "base_uri": "https://localhost:8080/",
          "height": 35
        },
        "outputId": "0baa7279-a0c7-430b-c9aa-4faaaab14803"
      },
      "source": [
        "a[np.where(a>2)]"
      ],
      "execution_count": 25,
      "outputs": [
        {
          "output_type": "execute_result",
          "data": {
            "text/plain": [
              "array([3, 3, 4, 6])"
            ]
          },
          "metadata": {
            "tags": []
          },
          "execution_count": 25
        }
      ]
    },
    {
      "cell_type": "code",
      "metadata": {
        "id": "KM3HwJwzXcJz",
        "colab_type": "code",
        "colab": {
          "base_uri": "https://localhost:8080/",
          "height": 35
        },
        "outputId": "5fb6f537-06e8-442f-9d26-4b46e0527360"
      },
      "source": [
        "list_palavras2"
      ],
      "execution_count": 26,
      "outputs": [
        {
          "output_type": "execute_result",
          "data": {
            "text/plain": [
              "['carro', 'chave', 'sabão', 'Dotz', 'Dotz', 'pedra', 'Dotz2020']"
            ]
          },
          "metadata": {
            "tags": []
          },
          "execution_count": 26
        }
      ]
    },
    {
      "cell_type": "code",
      "metadata": {
        "id": "mYicPz5OXcMi",
        "colab_type": "code",
        "colab": {}
      },
      "source": [
        "a_palavras=np.array(list_palavras2)"
      ],
      "execution_count": 27,
      "outputs": []
    },
    {
      "cell_type": "code",
      "metadata": {
        "id": "X0hj54jpXcHZ",
        "colab_type": "code",
        "colab": {
          "base_uri": "https://localhost:8080/",
          "height": 35
        },
        "outputId": "f956eb9d-e643-4da8-9a5a-dff49bb81ecf"
      },
      "source": [
        "a_palavras[np.where(a_palavras=='Dotz')]"
      ],
      "execution_count": 28,
      "outputs": [
        {
          "output_type": "execute_result",
          "data": {
            "text/plain": [
              "array(['Dotz', 'Dotz'], dtype='<U8')"
            ]
          },
          "metadata": {
            "tags": []
          },
          "execution_count": 28
        }
      ]
    },
    {
      "cell_type": "code",
      "metadata": {
        "id": "mA-sHD8DgF_u",
        "colab_type": "code",
        "colab": {
          "base_uri": "https://localhost:8080/",
          "height": 35
        },
        "outputId": "6ba1dcf6-7bc4-4215-8551-9fb01f81f8ce"
      },
      "source": [
        "np.char.find(a_palavras,'Dotz')"
      ],
      "execution_count": 29,
      "outputs": [
        {
          "output_type": "execute_result",
          "data": {
            "text/plain": [
              "array([-1, -1, -1,  0,  0, -1,  0])"
            ]
          },
          "metadata": {
            "tags": []
          },
          "execution_count": 29
        }
      ]
    },
    {
      "cell_type": "code",
      "metadata": {
        "id": "Z7qBbvUjYpQY",
        "colab_type": "code",
        "colab": {
          "base_uri": "https://localhost:8080/",
          "height": 35
        },
        "outputId": "0628f284-cd41-421b-db61-bc77e60ae0e0"
      },
      "source": [
        "a_palavras[np.char.find(a_palavras,'Dotz')==0]"
      ],
      "execution_count": 30,
      "outputs": [
        {
          "output_type": "execute_result",
          "data": {
            "text/plain": [
              "array(['Dotz', 'Dotz', 'Dotz2020'], dtype='<U8')"
            ]
          },
          "metadata": {
            "tags": []
          },
          "execution_count": 30
        }
      ]
    },
    {
      "cell_type": "code",
      "metadata": {
        "id": "meTQQKxkY10s",
        "colab_type": "code",
        "colab": {}
      },
      "source": [
        ""
      ],
      "execution_count": 30,
      "outputs": []
    },
    {
      "cell_type": "markdown",
      "metadata": {
        "id": "waGI7psQBds5",
        "colab_type": "text"
      },
      "source": [
        "## Primeira visualização Gráfica:\n",
        "\n",
        "Vamos aproveitar o conhecimento sobre listas e executar a primeira visualização gráfica, valendo-se do Matplotlib.\n",
        "\n",
        "https://matplotlib.org/\n",
        "\n",
        "Faremos um gráfico simples com duas variáveis (x e y), utilizando listas para isso."
      ]
    },
    {
      "cell_type": "code",
      "metadata": {
        "id": "eV_q5SWuBhXE",
        "colab_type": "code",
        "colab": {}
      },
      "source": [
        "x=[1,2,3,4,5]\n",
        "y=[2,5,6,9,12]\n"
      ],
      "execution_count": 31,
      "outputs": []
    },
    {
      "cell_type": "code",
      "metadata": {
        "id": "jTXcyM73z77f",
        "colab_type": "code",
        "colab": {
          "base_uri": "https://localhost:8080/",
          "height": 283
        },
        "outputId": "e4e73b00-81cc-4ca6-d193-bbd32e56341c"
      },
      "source": [
        "# plt foi carregado acima. Módulo Pyplot #import matplotlib.pyplot as plt \n",
        "plt.plot(x,y)"
      ],
      "execution_count": 32,
      "outputs": [
        {
          "output_type": "execute_result",
          "data": {
            "text/plain": [
              "[<matplotlib.lines.Line2D at 0x7fa32bd632e8>]"
            ]
          },
          "metadata": {
            "tags": []
          },
          "execution_count": 32
        },
        {
          "output_type": "display_data",
          "data": {
            "image/png": "[encoded data removed]",
            "text/plain": [
              "<Figure size 432x288 with 1 Axes>"
            ]
          },
          "metadata": {
            "tags": [],
            "needs_background": "light"
          }
        }
      ]
    },
    {
      "cell_type": "code",
      "metadata": {
        "id": "L0uzUvQgCMDu",
        "colab_type": "code",
        "colab": {
          "base_uri": "https://localhost:8080/",
          "height": 296
        },
        "outputId": "d1f9cd0e-76c9-471a-9cb6-78d92616796b"
      },
      "source": [
        "plt.xlabel('variável y (u.a.)')\n",
        "plt.ylabel('variável x (u.a.)')\n",
        "plt.title('Distribuição de y')\n",
        "plt.grid(True)\n",
        "plt.show()"
      ],
      "execution_count": 33,
      "outputs": [
        {
          "output_type": "display_data",
          "data": {
            "image/png": "[encoded data removed]",
            "text/plain": [
              "<Figure size 432x288 with 1 Axes>"
            ]
          },
          "metadata": {
            "tags": [],
            "needs_background": "light"
          }
        }
      ]
    },
    {
      "cell_type": "code",
      "metadata": {
        "id": "ma0n-6YsCdBu",
        "colab_type": "code",
        "colab": {
          "base_uri": "https://localhost:8080/",
          "height": 295
        },
        "outputId": "b41e9ff8-b6f1-4415-e406-4ee33dfcf581"
      },
      "source": [
        "plt.xlabel('variável x (u.a.)')\n",
        "plt.ylabel('variável y (u.a.)')\n",
        "plt.title('Distribuição de y')\n",
        "plt.grid(True)\n",
        "plt.plot(x,y)\n",
        "plt.show()"
      ],
      "execution_count": 34,
      "outputs": [
        {
          "output_type": "display_data",
          "data": {
            "image/png": "[encoded data removed]",
            "text/plain": [
              "<Figure size 432x288 with 1 Axes>"
            ]
          },
          "metadata": {
            "tags": [],
            "needs_background": "light"
          }
        }
      ]
    },
    {
      "cell_type": "markdown",
      "metadata": {
        "id": "Nt0UKnqS0GKI",
        "colab_type": "text"
      },
      "source": [
        "## Agrupamento de listas"
      ]
    },
    {
      "cell_type": "code",
      "metadata": {
        "id": "Jm49bsT90JMV",
        "colab_type": "code",
        "colab": {}
      },
      "source": [
        "list_total=list_palavras+list_palavras2"
      ],
      "execution_count": 35,
      "outputs": []
    },
    {
      "cell_type": "code",
      "metadata": {
        "id": "n0FTCmZy0NDv",
        "colab_type": "code",
        "colab": {
          "base_uri": "https://localhost:8080/",
          "height": 35
        },
        "outputId": "c74f20cc-92ef-433b-c103-ea703ab3c35e"
      },
      "source": [
        "print(list_total)"
      ],
      "execution_count": 36,
      "outputs": [
        {
          "output_type": "stream",
          "text": [
            "['carro', 'sorvete', 'pedra', 'ônibus', 'carro', 'carro', 'chave', 'sabão', 'Dotz', 'Dotz', 'pedra', 'Dotz2020']\n"
          ],
          "name": "stdout"
        }
      ]
    },
    {
      "cell_type": "code",
      "metadata": {
        "id": "na9s5ast3wVX",
        "colab_type": "code",
        "colab": {
          "base_uri": "https://localhost:8080/",
          "height": 233
        },
        "outputId": "313eb827-9e92-4de5-936b-59f98b4e2ade"
      },
      "source": [
        "for nome in list_total:\n",
        "  print(nome)"
      ],
      "execution_count": 37,
      "outputs": [
        {
          "output_type": "stream",
          "text": [
            "carro\n",
            "sorvete\n",
            "pedra\n",
            "ônibus\n",
            "carro\n",
            "carro\n",
            "chave\n",
            "sabão\n",
            "Dotz\n",
            "Dotz\n",
            "pedra\n",
            "Dotz2020\n"
          ],
          "name": "stdout"
        }
      ]
    },
    {
      "cell_type": "code",
      "metadata": {
        "id": "az43-sZK0QUc",
        "colab_type": "code",
        "colab": {
          "base_uri": "https://localhost:8080/",
          "height": 35
        },
        "outputId": "40165caa-1a33-4b17-a674-c10ca86212c0"
      },
      "source": [
        "#Tamanho\n",
        "len(list_total)"
      ],
      "execution_count": 38,
      "outputs": [
        {
          "output_type": "execute_result",
          "data": {
            "text/plain": [
              "12"
            ]
          },
          "metadata": {
            "tags": []
          },
          "execution_count": 38
        }
      ]
    },
    {
      "cell_type": "code",
      "metadata": {
        "id": "7g4pbbEAypA4",
        "colab_type": "code",
        "colab": {
          "base_uri": "https://localhost:8080/",
          "height": 35
        },
        "outputId": "d2c6b9f3-8719-4c4a-8bc9-6a29652f3772"
      },
      "source": [
        "#Conjunto/Set: elementos únicos da lista\n",
        "set(list_palavras)"
      ],
      "execution_count": 39,
      "outputs": [
        {
          "output_type": "execute_result",
          "data": {
            "text/plain": [
              "{'carro', 'pedra', 'sorvete', 'ônibus'}"
            ]
          },
          "metadata": {
            "tags": []
          },
          "execution_count": 39
        }
      ]
    },
    {
      "cell_type": "code",
      "metadata": {
        "id": "TODMnaxT0pK7",
        "colab_type": "code",
        "colab": {
          "base_uri": "https://localhost:8080/",
          "height": 35
        },
        "outputId": "deab6a1e-5d30-4240-9d82-d746430c2800"
      },
      "source": [
        "#Tamanho\n",
        "len(set(list_palavras))"
      ],
      "execution_count": 40,
      "outputs": [
        {
          "output_type": "execute_result",
          "data": {
            "text/plain": [
              "4"
            ]
          },
          "metadata": {
            "tags": []
          },
          "execution_count": 40
        }
      ]
    },
    {
      "cell_type": "code",
      "metadata": {
        "id": "4xU8cigqzOMG",
        "colab_type": "code",
        "colab": {
          "base_uri": "https://localhost:8080/",
          "height": 35
        },
        "outputId": "5b6c0a5c-70ea-4702-a101-aafbde1e991e"
      },
      "source": [
        "#Conjunto/Set: elementos únicos da lista \n",
        "set(list_numeros)"
      ],
      "execution_count": 41,
      "outputs": [
        {
          "output_type": "execute_result",
          "data": {
            "text/plain": [
              "{1, 2, 3, 4, 6}"
            ]
          },
          "metadata": {
            "tags": []
          },
          "execution_count": 41
        }
      ]
    },
    {
      "cell_type": "code",
      "metadata": {
        "id": "2fcM2BlSzdib",
        "colab_type": "code",
        "colab": {}
      },
      "source": [
        "\n"
      ],
      "execution_count": 41,
      "outputs": []
    },
    {
      "cell_type": "markdown",
      "metadata": {
        "id": "avAeBNcV0wT9",
        "colab_type": "text"
      },
      "source": [
        "## Operações com sets"
      ]
    },
    {
      "cell_type": "code",
      "metadata": {
        "id": "s49xRAOu0coL",
        "colab_type": "code",
        "colab": {
          "base_uri": "https://localhost:8080/",
          "height": 35
        },
        "outputId": "217fe52d-3609-4638-9cc4-7074b9b66d2f"
      },
      "source": [
        "#Intersecção\n",
        "set(list_palavras).intersection(list_palavras2)"
      ],
      "execution_count": 42,
      "outputs": [
        {
          "output_type": "execute_result",
          "data": {
            "text/plain": [
              "{'carro', 'pedra'}"
            ]
          },
          "metadata": {
            "tags": []
          },
          "execution_count": 42
        }
      ]
    },
    {
      "cell_type": "code",
      "metadata": {
        "id": "Bqo_tGDJ0cxh",
        "colab_type": "code",
        "colab": {
          "base_uri": "https://localhost:8080/",
          "height": 35
        },
        "outputId": "5be88d4a-09e5-4b38-aec9-b92765a9077b"
      },
      "source": [
        "#União\n",
        "set(list_palavras).union(list_palavras2)"
      ],
      "execution_count": 43,
      "outputs": [
        {
          "output_type": "execute_result",
          "data": {
            "text/plain": [
              "{'Dotz', 'Dotz2020', 'carro', 'chave', 'pedra', 'sabão', 'sorvete', 'ônibus'}"
            ]
          },
          "metadata": {
            "tags": []
          },
          "execution_count": 43
        }
      ]
    },
    {
      "cell_type": "code",
      "metadata": {
        "id": "VSt0D0q21FF9",
        "colab_type": "code",
        "colab": {
          "base_uri": "https://localhost:8080/",
          "height": 35
        },
        "outputId": "a2e4c3ac-7bb0-4505-ea29-4ccc7eed8ef2"
      },
      "source": [
        "#Diferença\n",
        "set(list_palavras).difference(list_palavras2)"
      ],
      "execution_count": 44,
      "outputs": [
        {
          "output_type": "execute_result",
          "data": {
            "text/plain": [
              "{'sorvete', 'ônibus'}"
            ]
          },
          "metadata": {
            "tags": []
          },
          "execution_count": 44
        }
      ]
    },
    {
      "cell_type": "markdown",
      "metadata": {
        "id": "WPUzrG4OztDg",
        "colab_type": "text"
      },
      "source": [
        "# Dicionários"
      ]
    },
    {
      "cell_type": "code",
      "metadata": {
        "id": "HGBq8fKdzcxU",
        "colab_type": "code",
        "colab": {}
      },
      "source": [
        "categoria_exemplo = 'a'\n",
        "valor_exemplo = 10\n",
        "\n",
        "# Chaves e Valores\n",
        "d = {'categoria':categoria_exemplo,'valor':valor_exemplo}\n"
      ],
      "execution_count": 45,
      "outputs": []
    },
    {
      "cell_type": "code",
      "metadata": {
        "id": "Lq2bXbi4z2T7",
        "colab_type": "code",
        "colab": {
          "base_uri": "https://localhost:8080/",
          "height": 35
        },
        "outputId": "7153292e-4ec7-4b81-9ca2-51b8b4f47c87"
      },
      "source": [
        "d"
      ],
      "execution_count": 46,
      "outputs": [
        {
          "output_type": "execute_result",
          "data": {
            "text/plain": [
              "{'categoria': 'a', 'valor': 10}"
            ]
          },
          "metadata": {
            "tags": []
          },
          "execution_count": 46
        }
      ]
    },
    {
      "cell_type": "code",
      "metadata": {
        "id": "o8o-PX5cz2N8",
        "colab_type": "code",
        "colab": {
          "base_uri": "https://localhost:8080/",
          "height": 35
        },
        "outputId": "46b874ac-5918-4a28-924e-0df5f392fe20"
      },
      "source": [
        "type(d)"
      ],
      "execution_count": 47,
      "outputs": [
        {
          "output_type": "execute_result",
          "data": {
            "text/plain": [
              "dict"
            ]
          },
          "metadata": {
            "tags": []
          },
          "execution_count": 47
        }
      ]
    },
    {
      "cell_type": "code",
      "metadata": {
        "id": "JlQqFJYf3JtU",
        "colab_type": "code",
        "colab": {
          "base_uri": "https://localhost:8080/",
          "height": 35
        },
        "outputId": "9dc6b92b-ae97-4f66-fccc-601678eae484"
      },
      "source": [
        "d.get('categoria')"
      ],
      "execution_count": 48,
      "outputs": [
        {
          "output_type": "execute_result",
          "data": {
            "application/vnd.google.colaboratory.intrinsic": {
              "type": "string"
            },
            "text/plain": [
              "'a'"
            ]
          },
          "metadata": {
            "tags": []
          },
          "execution_count": 48
        }
      ]
    },
    {
      "cell_type": "code",
      "metadata": {
        "id": "GmRAkTxD3Vy9",
        "colab_type": "code",
        "colab": {
          "base_uri": "https://localhost:8080/",
          "height": 35
        },
        "outputId": "feaa33e7-fbb2-4958-9a91-4e8bbbf9c9b0"
      },
      "source": [
        "d.get('valor')"
      ],
      "execution_count": 49,
      "outputs": [
        {
          "output_type": "execute_result",
          "data": {
            "text/plain": [
              "10"
            ]
          },
          "metadata": {
            "tags": []
          },
          "execution_count": 49
        }
      ]
    },
    {
      "cell_type": "code",
      "metadata": {
        "id": "lf48j94o4cGv",
        "colab_type": "code",
        "colab": {
          "base_uri": "https://localhost:8080/",
          "height": 53
        },
        "outputId": "9bbb7de9-d86a-423b-9cfd-d7f717fc4ca9"
      },
      "source": [
        "for x in d.keys():\n",
        "  print(x)"
      ],
      "execution_count": 50,
      "outputs": [
        {
          "output_type": "stream",
          "text": [
            "categoria\n",
            "valor\n"
          ],
          "name": "stdout"
        }
      ]
    },
    {
      "cell_type": "code",
      "metadata": {
        "id": "hMeYg5893V2J",
        "colab_type": "code",
        "colab": {
          "base_uri": "https://localhost:8080/",
          "height": 53
        },
        "outputId": "3bef9f17-0a10-412d-f1d9-256eb0a0a14c"
      },
      "source": [
        "for x in d.values():\n",
        "  print(x)"
      ],
      "execution_count": 51,
      "outputs": [
        {
          "output_type": "stream",
          "text": [
            "a\n",
            "10\n"
          ],
          "name": "stdout"
        }
      ]
    },
    {
      "cell_type": "code",
      "metadata": {
        "id": "yxz8tyPf4afh",
        "colab_type": "code",
        "colab": {}
      },
      "source": [
        ""
      ],
      "execution_count": 51,
      "outputs": []
    },
    {
      "cell_type": "markdown",
      "metadata": {
        "id": "0L7c3jQs4jLA",
        "colab_type": "text"
      },
      "source": [
        "Podemos trabalhar com listas também. Será útil mais para frente."
      ]
    },
    {
      "cell_type": "code",
      "metadata": {
        "id": "IQk-XyrY3V5E",
        "colab_type": "code",
        "colab": {}
      },
      "source": [
        "list_categorias = ['a','b','c','a']\n",
        "list_valores = [10,20,30,12]\n",
        "dd = {'categoria':list_categorias,'valor':list_valores}"
      ],
      "execution_count": 52,
      "outputs": []
    },
    {
      "cell_type": "code",
      "metadata": {
        "id": "JFwYJq7hj3CJ",
        "colab_type": "code",
        "colab": {
          "base_uri": "https://localhost:8080/",
          "height": 35
        },
        "outputId": "cc99d399-7d7e-46a4-cff3-3bbc40ff4e05"
      },
      "source": [
        "dd.get('categoria')"
      ],
      "execution_count": 53,
      "outputs": [
        {
          "output_type": "execute_result",
          "data": {
            "text/plain": [
              "['a', 'b', 'c', 'a']"
            ]
          },
          "metadata": {
            "tags": []
          },
          "execution_count": 53
        }
      ]
    },
    {
      "cell_type": "code",
      "metadata": {
        "id": "-_1OusvIllgq",
        "colab_type": "code",
        "colab": {
          "base_uri": "https://localhost:8080/",
          "height": 35
        },
        "outputId": "3b11c0eb-81dd-488f-ebed-879aa79d09e4"
      },
      "source": [
        "dd.get('categoria')"
      ],
      "execution_count": 54,
      "outputs": [
        {
          "output_type": "execute_result",
          "data": {
            "text/plain": [
              "['a', 'b', 'c', 'a']"
            ]
          },
          "metadata": {
            "tags": []
          },
          "execution_count": 54
        }
      ]
    },
    {
      "cell_type": "code",
      "metadata": {
        "id": "nHb3iRlb4x3R",
        "colab_type": "code",
        "colab": {}
      },
      "source": [
        ""
      ],
      "execution_count": 54,
      "outputs": []
    },
    {
      "cell_type": "markdown",
      "metadata": {
        "id": "gg_ju4HY402i",
        "colab_type": "text"
      },
      "source": [
        "Até aqui: operações básicas, listas, conjuntos/sets, dicionários"
      ]
    },
    {
      "cell_type": "code",
      "metadata": {
        "id": "XdkEQn2K5BWu",
        "colab_type": "code",
        "colab": {}
      },
      "source": [
        ""
      ],
      "execution_count": 54,
      "outputs": []
    },
    {
      "cell_type": "markdown",
      "metadata": {
        "id": "Zt1uwn8U5B0X",
        "colab_type": "text"
      },
      "source": [
        "# Pandas Dataframe"
      ]
    },
    {
      "cell_type": "markdown",
      "metadata": {
        "id": "QiZ1BJ-s5T-n",
        "colab_type": "text"
      },
      "source": [
        "https://pandas.pydata.org/pandas-docs/stable/reference/api/pandas.DataFrame.html"
      ]
    },
    {
      "cell_type": "markdown",
      "metadata": {
        "id": "tld_8k2g5UE2",
        "colab_type": "text"
      },
      "source": [
        "\" Two-dimensional, size-mutable, potentially heterogeneous tabular data.\n",
        "\n",
        "Data structure also contains labeled axes (rows and columns). Arithmetic operations align on both row and column labels. Can be thought of as a dict-like container for Series objects. The primary pandas data structure. \""
      ]
    },
    {
      "cell_type": "markdown",
      "metadata": {
        "id": "T_eabt-_9pF5",
        "colab_type": "text"
      },
      "source": [
        "Para quem é familiar com o BigQuery, por exemplo, a estrutura tabular se assemelha muito com a saída de alguma query."
      ]
    },
    {
      "cell_type": "code",
      "metadata": {
        "id": "iBc6DU2U4x_d",
        "colab_type": "code",
        "colab": {}
      },
      "source": [
        "\n",
        "\n",
        "\n"
      ],
      "execution_count": 54,
      "outputs": []
    },
    {
      "cell_type": "markdown",
      "metadata": {
        "id": "asCALuWM90ym",
        "colab_type": "text"
      },
      "source": [
        "Vamos utilizar o dicionário anterior para criar um dataframe."
      ]
    },
    {
      "cell_type": "code",
      "metadata": {
        "id": "IlxUgJ4P96LB",
        "colab_type": "code",
        "colab": {
          "base_uri": "https://localhost:8080/",
          "height": 35
        },
        "outputId": "be565335-5411-49f6-89f6-72f4c1f4ffe9"
      },
      "source": [
        "dd"
      ],
      "execution_count": 55,
      "outputs": [
        {
          "output_type": "execute_result",
          "data": {
            "text/plain": [
              "{'categoria': ['a', 'b', 'c', 'a'], 'valor': [10, 20, 30, 12]}"
            ]
          },
          "metadata": {
            "tags": []
          },
          "execution_count": 55
        }
      ]
    },
    {
      "cell_type": "code",
      "metadata": {
        "id": "dPsblyMjk4fE",
        "colab_type": "code",
        "colab": {}
      },
      "source": [
        "# Função para gerar um dataframe do dicionário dd \n",
        "df_pandas = pd.DataFrame(data=dd)"
      ],
      "execution_count": 56,
      "outputs": []
    },
    {
      "cell_type": "code",
      "metadata": {
        "id": "Xjc3FIznj3os",
        "colab_type": "code",
        "colab": {
          "base_uri": "https://localhost:8080/",
          "height": 173
        },
        "outputId": "8b00ab7d-51f8-4288-ccab-4ec2b1185af4"
      },
      "source": [
        "df_pandas.head()"
      ],
      "execution_count": 57,
      "outputs": [
        {
          "output_type": "execute_result",
          "data": {
            "text/html": [
              "<div>\n",
              "<style scoped>\n",
              "    .dataframe tbody tr th:only-of-type {\n",
              "        vertical-align: middle;\n",
              "    }\n",
              "\n",
              "    .dataframe tbody tr th {\n",
              "        vertical-align: top;\n",
              "    }\n",
              "\n",
              "    .dataframe thead th {\n",
              "        text-align: right;\n",
              "    }\n",
              "</style>\n",
              "<table border=\"1\" class=\"dataframe\">\n",
              "  <thead>\n",
              "    <tr style=\"text-align: right;\">\n",
              "      <th></th>\n",
              "      <th>categoria</th>\n",
              "      <th>valor</th>\n",
              "    </tr>\n",
              "  </thead>\n",
              "  <tbody>\n",
              "    <tr>\n",
              "      <th>0</th>\n",
              "      <td>a</td>\n",
              "      <td>10</td>\n",
              "    </tr>\n",
              "    <tr>\n",
              "      <th>1</th>\n",
              "      <td>b</td>\n",
              "      <td>20</td>\n",
              "    </tr>\n",
              "    <tr>\n",
              "      <th>2</th>\n",
              "      <td>c</td>\n",
              "      <td>30</td>\n",
              "    </tr>\n",
              "    <tr>\n",
              "      <th>3</th>\n",
              "      <td>a</td>\n",
              "      <td>12</td>\n",
              "    </tr>\n",
              "  </tbody>\n",
              "</table>\n",
              "</div>"
            ],
            "text/plain": [
              "  categoria  valor\n",
              "0         a     10\n",
              "1         b     20\n",
              "2         c     30\n",
              "3         a     12"
            ]
          },
          "metadata": {
            "tags": []
          },
          "execution_count": 57
        }
      ]
    },
    {
      "cell_type": "markdown",
      "metadata": {
        "id": "pWxl2WA2-QQu",
        "colab_type": "text"
      },
      "source": [
        "## Manipulações de dados e visualizações"
      ]
    },
    {
      "cell_type": "markdown",
      "metadata": {
        "id": "6wT2-_Bcl38Y",
        "colab_type": "text"
      },
      "source": [
        "## Simulando dados para primeiras verificações"
      ]
    },
    {
      "cell_type": "code",
      "metadata": {
        "id": "JIhC88hhl0ok",
        "colab_type": "code",
        "colab": {}
      },
      "source": [
        "# Relembrando um pocuo o que foi feito com R no último encontro\n",
        "seed=40 \n"
      ],
      "execution_count": 58,
      "outputs": []
    },
    {
      "cell_type": "markdown",
      "metadata": {
        "id": "BSlEiAtJ-b3t",
        "colab_type": "text"
      },
      "source": [
        "Aqui, criaremos distribuições para 4 categorias a,b,c,d. Faremos da forma mais pedestre possível, entendendo passo a passo."
      ]
    },
    {
      "cell_type": "code",
      "metadata": {
        "id": "cusWtzSY-au5",
        "colab_type": "code",
        "colab": {}
      },
      "source": [
        "random.seed(seed)\n",
        "\n",
        "#Número de entradas para cada categoria (aleatório uniforme de 100 a 10000)\n",
        "na=random.randint(100,10000)\n",
        "nb=random.randint(100,10000)\n",
        "nc=random.randint(100,10000)\n",
        "nd=random.randint(100,10000)"
      ],
      "execution_count": 59,
      "outputs": []
    },
    {
      "cell_type": "code",
      "metadata": {
        "id": "qTD0fTe1--Mv",
        "colab_type": "code",
        "colab": {}
      },
      "source": [
        ""
      ],
      "execution_count": 59,
      "outputs": []
    },
    {
      "cell_type": "markdown",
      "metadata": {
        "id": "0AtDuJz1_SOR",
        "colab_type": "text"
      },
      "source": [
        "## Vamos usar uma distribuição normal para os sorteios: \n",
        "https://www.inf.ufsc.br/~andre.zibetti/probabilidade/normal.html"
      ]
    },
    {
      "cell_type": "code",
      "metadata": {
        "id": "2GyXrjdb--Ww",
        "colab_type": "code",
        "colab": {}
      },
      "source": [
        ""
      ],
      "execution_count": 59,
      "outputs": []
    },
    {
      "cell_type": "markdown",
      "metadata": {
        "id": "Et9Geqds_nqK",
        "colab_type": "text"
      },
      "source": [
        "Essa distribuição é definida pela posição mais provável(mu) e desvio padrão(sigma)"
      ]
    },
    {
      "cell_type": "code",
      "metadata": {
        "id": "RunFJpc-l0rh",
        "colab_type": "code",
        "colab": {}
      },
      "source": [
        "#Determinação arbitrária dos 'mu's e 'sigma's para valores sorteados\n",
        "mu_a=100 \n",
        "mu_b=200\n",
        "mu_c=300\n",
        "mu_d=400\n",
        "\n",
        "sigma_a=5\n",
        "sigma_b=10\n",
        "sigma_c=5\n",
        "sigma_d=10\n",
        "\n",
        "\n",
        "\n",
        "# Listas para os valores sorteados\n",
        "valores_a=[random.gauss(mu=mu_a,sigma=sigma_a) for i in range(0,na)]\n",
        "valores_b=[random.gauss(mu=mu_b,sigma=sigma_b) for i in range(0,nb)]\n",
        "valores_c=[random.gauss(mu=mu_c,sigma=sigma_c) for i in range(0,nc)]\n",
        "valores_d=[random.gauss(mu=mu_d,sigma=sigma_d) for i in range(0,nd)]\n",
        "\n",
        "# Vendas para os valores sorteados\n",
        "vendas_a=[int(random.gauss(5000/valor,500/valor)) for valor in valores_a]\n",
        "vendas_b=[int(random.gauss(5000/valor,500/valor)) for valor in valores_b]\n",
        "vendas_c=[int(random.gauss(5000/valor,500/valor)) for valor in valores_c]\n",
        "vendas_d=[int(random.gauss(5000/valor,500/valor)) for valor in valores_d]\n",
        "\n",
        "#Listas para as categorias\n",
        "categorias_a=['a' for i in range(0,na)]\n",
        "categorias_b=['b' for i in range(0,nb)]\n",
        "categorias_c=['c' for i in range(0,nc)]\n",
        "categorias_d=['d' for i in range(0,nd)]\n",
        "\n",
        "categorias=categorias_a+categorias_b+categorias_c+categorias_d\n",
        "valores=valores_a+valores_b+valores_c+valores_d\n",
        "vendas=vendas_a+vendas_b+vendas_c+vendas_d\n",
        "\n"
      ],
      "execution_count": 60,
      "outputs": []
    },
    {
      "cell_type": "code",
      "metadata": {
        "id": "BK0q2ZGlx0hG",
        "colab_type": "code",
        "colab": {}
      },
      "source": [
        "d_simulado = {'categoria':categorias,'valor':valores,'vendas':vendas}\n"
      ],
      "execution_count": 61,
      "outputs": []
    },
    {
      "cell_type": "code",
      "metadata": {
        "id": "OIwKFuf6x5u9",
        "colab_type": "code",
        "colab": {}
      },
      "source": [
        "# Gerando um novo DataFrame\n",
        "df_simulado = pd.DataFrame(data=d_simulado)\n"
      ],
      "execution_count": 62,
      "outputs": []
    },
    {
      "cell_type": "code",
      "metadata": {
        "id": "csuQmpvp03PK",
        "colab_type": "code",
        "colab": {
          "base_uri": "https://localhost:8080/",
          "height": 173
        },
        "outputId": "77a36020-fc4d-4a1d-d325-83981814d189"
      },
      "source": [
        "df_simulado.head(4)"
      ],
      "execution_count": 63,
      "outputs": [
        {
          "output_type": "execute_result",
          "data": {
            "text/html": [
              "<div>\n",
              "<style scoped>\n",
              "    .dataframe tbody tr th:only-of-type {\n",
              "        vertical-align: middle;\n",
              "    }\n",
              "\n",
              "    .dataframe tbody tr th {\n",
              "        vertical-align: top;\n",
              "    }\n",
              "\n",
              "    .dataframe thead th {\n",
              "        text-align: right;\n",
              "    }\n",
              "</style>\n",
              "<table border=\"1\" class=\"dataframe\">\n",
              "  <thead>\n",
              "    <tr style=\"text-align: right;\">\n",
              "      <th></th>\n",
              "      <th>categoria</th>\n",
              "      <th>valor</th>\n",
              "      <th>vendas</th>\n",
              "    </tr>\n",
              "  </thead>\n",
              "  <tbody>\n",
              "    <tr>\n",
              "      <th>0</th>\n",
              "      <td>a</td>\n",
              "      <td>100.218666</td>\n",
              "      <td>45</td>\n",
              "    </tr>\n",
              "    <tr>\n",
              "      <th>1</th>\n",
              "      <td>a</td>\n",
              "      <td>107.386981</td>\n",
              "      <td>50</td>\n",
              "    </tr>\n",
              "    <tr>\n",
              "      <th>2</th>\n",
              "      <td>a</td>\n",
              "      <td>97.785867</td>\n",
              "      <td>46</td>\n",
              "    </tr>\n",
              "    <tr>\n",
              "      <th>3</th>\n",
              "      <td>a</td>\n",
              "      <td>97.420807</td>\n",
              "      <td>51</td>\n",
              "    </tr>\n",
              "  </tbody>\n",
              "</table>\n",
              "</div>"
            ],
            "text/plain": [
              "  categoria       valor  vendas\n",
              "0         a  100.218666      45\n",
              "1         a  107.386981      50\n",
              "2         a   97.785867      46\n",
              "3         a   97.420807      51"
            ]
          },
          "metadata": {
            "tags": []
          },
          "execution_count": 63
        }
      ]
    },
    {
      "cell_type": "code",
      "metadata": {
        "id": "jeaOzWkN04v4",
        "colab_type": "code",
        "colab": {
          "base_uri": "https://localhost:8080/",
          "height": 89
        },
        "outputId": "0392c561-7b44-4e88-c66e-8432cd78177d"
      },
      "source": [
        "# Contagens\n",
        "df_simulado.count()"
      ],
      "execution_count": 64,
      "outputs": [
        {
          "output_type": "execute_result",
          "data": {
            "text/plain": [
              "categoria    26512\n",
              "valor        26512\n",
              "vendas       26512\n",
              "dtype: int64"
            ]
          },
          "metadata": {
            "tags": []
          },
          "execution_count": 64
        }
      ]
    },
    {
      "cell_type": "code",
      "metadata": {
        "id": "NWnBL9ltAubz",
        "colab_type": "code",
        "colab": {}
      },
      "source": [
        ""
      ],
      "execution_count": 64,
      "outputs": []
    },
    {
      "cell_type": "markdown",
      "metadata": {
        "id": "t7t12QZfAvQC",
        "colab_type": "text"
      },
      "source": [
        "## Agrupamentos e contagens básicas"
      ]
    },
    {
      "cell_type": "code",
      "metadata": {
        "id": "3f_aPYUL04yd",
        "colab_type": "code",
        "colab": {
          "base_uri": "https://localhost:8080/",
          "height": 204
        },
        "outputId": "0a48b9ad-7126-4067-80a5-e258f194523c"
      },
      "source": [
        "# Contagens por categoria\n",
        "df_simulado.groupby('categoria').count()"
      ],
      "execution_count": 65,
      "outputs": [
        {
          "output_type": "execute_result",
          "data": {
            "text/html": [
              "<div>\n",
              "<style scoped>\n",
              "    .dataframe tbody tr th:only-of-type {\n",
              "        vertical-align: middle;\n",
              "    }\n",
              "\n",
              "    .dataframe tbody tr th {\n",
              "        vertical-align: top;\n",
              "    }\n",
              "\n",
              "    .dataframe thead th {\n",
              "        text-align: right;\n",
              "    }\n",
              "</style>\n",
              "<table border=\"1\" class=\"dataframe\">\n",
              "  <thead>\n",
              "    <tr style=\"text-align: right;\">\n",
              "      <th></th>\n",
              "      <th>valor</th>\n",
              "      <th>vendas</th>\n",
              "    </tr>\n",
              "    <tr>\n",
              "      <th>categoria</th>\n",
              "      <th></th>\n",
              "      <th></th>\n",
              "    </tr>\n",
              "  </thead>\n",
              "  <tbody>\n",
              "    <tr>\n",
              "      <th>a</th>\n",
              "      <td>7613</td>\n",
              "      <td>7613</td>\n",
              "    </tr>\n",
              "    <tr>\n",
              "      <th>b</th>\n",
              "      <td>9594</td>\n",
              "      <td>9594</td>\n",
              "    </tr>\n",
              "    <tr>\n",
              "      <th>c</th>\n",
              "      <td>8684</td>\n",
              "      <td>8684</td>\n",
              "    </tr>\n",
              "    <tr>\n",
              "      <th>d</th>\n",
              "      <td>621</td>\n",
              "      <td>621</td>\n",
              "    </tr>\n",
              "  </tbody>\n",
              "</table>\n",
              "</div>"
            ],
            "text/plain": [
              "           valor  vendas\n",
              "categoria               \n",
              "a           7613    7613\n",
              "b           9594    9594\n",
              "c           8684    8684\n",
              "d            621     621"
            ]
          },
          "metadata": {
            "tags": []
          },
          "execution_count": 65
        }
      ]
    },
    {
      "cell_type": "code",
      "metadata": {
        "id": "BM3m8mWcPEne",
        "colab_type": "code",
        "colab": {
          "base_uri": "https://localhost:8080/",
          "height": 204
        },
        "outputId": "19ca7cc6-91b9-4285-cbb3-e91687f69f40"
      },
      "source": [
        "df_simulado.groupby('categoria').mean()"
      ],
      "execution_count": 66,
      "outputs": [
        {
          "output_type": "execute_result",
          "data": {
            "text/html": [
              "<div>\n",
              "<style scoped>\n",
              "    .dataframe tbody tr th:only-of-type {\n",
              "        vertical-align: middle;\n",
              "    }\n",
              "\n",
              "    .dataframe tbody tr th {\n",
              "        vertical-align: top;\n",
              "    }\n",
              "\n",
              "    .dataframe thead th {\n",
              "        text-align: right;\n",
              "    }\n",
              "</style>\n",
              "<table border=\"1\" class=\"dataframe\">\n",
              "  <thead>\n",
              "    <tr style=\"text-align: right;\">\n",
              "      <th></th>\n",
              "      <th>valor</th>\n",
              "      <th>vendas</th>\n",
              "    </tr>\n",
              "    <tr>\n",
              "      <th>categoria</th>\n",
              "      <th></th>\n",
              "      <th></th>\n",
              "    </tr>\n",
              "  </thead>\n",
              "  <tbody>\n",
              "    <tr>\n",
              "      <th>a</th>\n",
              "      <td>99.950467</td>\n",
              "      <td>49.617628</td>\n",
              "    </tr>\n",
              "    <tr>\n",
              "      <th>b</th>\n",
              "      <td>200.012752</td>\n",
              "      <td>24.538670</td>\n",
              "    </tr>\n",
              "    <tr>\n",
              "      <th>c</th>\n",
              "      <td>300.095098</td>\n",
              "      <td>16.156610</td>\n",
              "    </tr>\n",
              "    <tr>\n",
              "      <th>d</th>\n",
              "      <td>399.902770</td>\n",
              "      <td>11.903382</td>\n",
              "    </tr>\n",
              "  </tbody>\n",
              "</table>\n",
              "</div>"
            ],
            "text/plain": [
              "                valor     vendas\n",
              "categoria                       \n",
              "a           99.950467  49.617628\n",
              "b          200.012752  24.538670\n",
              "c          300.095098  16.156610\n",
              "d          399.902770  11.903382"
            ]
          },
          "metadata": {
            "tags": []
          },
          "execution_count": 66
        }
      ]
    },
    {
      "cell_type": "code",
      "metadata": {
        "id": "7GTo75Kk041U",
        "colab_type": "code",
        "colab": {
          "base_uri": "https://localhost:8080/",
          "height": 235
        },
        "outputId": "73c45e1b-9db0-4162-e56a-fb3f7a4dbaae"
      },
      "source": [
        "# Mais métricas por categoria\n",
        "df_simulado.groupby('categoria').agg({'count','mean','median','max','min','sum'})\n",
        "\n"
      ],
      "execution_count": 67,
      "outputs": [
        {
          "output_type": "execute_result",
          "data": {
            "text/html": [
              "<div>\n",
              "<style scoped>\n",
              "    .dataframe tbody tr th:only-of-type {\n",
              "        vertical-align: middle;\n",
              "    }\n",
              "\n",
              "    .dataframe tbody tr th {\n",
              "        vertical-align: top;\n",
              "    }\n",
              "\n",
              "    .dataframe thead tr th {\n",
              "        text-align: left;\n",
              "    }\n",
              "\n",
              "    .dataframe thead tr:last-of-type th {\n",
              "        text-align: right;\n",
              "    }\n",
              "</style>\n",
              "<table border=\"1\" class=\"dataframe\">\n",
              "  <thead>\n",
              "    <tr>\n",
              "      <th></th>\n",
              "      <th colspan=\"6\" halign=\"left\">valor</th>\n",
              "      <th colspan=\"6\" halign=\"left\">vendas</th>\n",
              "    </tr>\n",
              "    <tr>\n",
              "      <th></th>\n",
              "      <th>min</th>\n",
              "      <th>median</th>\n",
              "      <th>max</th>\n",
              "      <th>count</th>\n",
              "      <th>sum</th>\n",
              "      <th>mean</th>\n",
              "      <th>min</th>\n",
              "      <th>median</th>\n",
              "      <th>max</th>\n",
              "      <th>count</th>\n",
              "      <th>sum</th>\n",
              "      <th>mean</th>\n",
              "    </tr>\n",
              "    <tr>\n",
              "      <th>categoria</th>\n",
              "      <th></th>\n",
              "      <th></th>\n",
              "      <th></th>\n",
              "      <th></th>\n",
              "      <th></th>\n",
              "      <th></th>\n",
              "      <th></th>\n",
              "      <th></th>\n",
              "      <th></th>\n",
              "      <th></th>\n",
              "      <th></th>\n",
              "      <th></th>\n",
              "    </tr>\n",
              "  </thead>\n",
              "  <tbody>\n",
              "    <tr>\n",
              "      <th>a</th>\n",
              "      <td>81.315428</td>\n",
              "      <td>99.955767</td>\n",
              "      <td>119.098804</td>\n",
              "      <td>7613</td>\n",
              "      <td>7.609229e+05</td>\n",
              "      <td>99.950467</td>\n",
              "      <td>32</td>\n",
              "      <td>50</td>\n",
              "      <td>74</td>\n",
              "      <td>7613</td>\n",
              "      <td>377739</td>\n",
              "      <td>49.617628</td>\n",
              "    </tr>\n",
              "    <tr>\n",
              "      <th>b</th>\n",
              "      <td>164.250840</td>\n",
              "      <td>200.140719</td>\n",
              "      <td>237.147466</td>\n",
              "      <td>9594</td>\n",
              "      <td>1.918922e+06</td>\n",
              "      <td>200.012752</td>\n",
              "      <td>14</td>\n",
              "      <td>24</td>\n",
              "      <td>36</td>\n",
              "      <td>9594</td>\n",
              "      <td>235424</td>\n",
              "      <td>24.538670</td>\n",
              "    </tr>\n",
              "    <tr>\n",
              "      <th>c</th>\n",
              "      <td>279.398013</td>\n",
              "      <td>300.148387</td>\n",
              "      <td>320.726223</td>\n",
              "      <td>8684</td>\n",
              "      <td>2.606026e+06</td>\n",
              "      <td>300.095098</td>\n",
              "      <td>10</td>\n",
              "      <td>16</td>\n",
              "      <td>23</td>\n",
              "      <td>8684</td>\n",
              "      <td>140304</td>\n",
              "      <td>16.156610</td>\n",
              "    </tr>\n",
              "    <tr>\n",
              "      <th>d</th>\n",
              "      <td>360.247909</td>\n",
              "      <td>400.407239</td>\n",
              "      <td>430.984546</td>\n",
              "      <td>621</td>\n",
              "      <td>2.483396e+05</td>\n",
              "      <td>399.902770</td>\n",
              "      <td>7</td>\n",
              "      <td>12</td>\n",
              "      <td>15</td>\n",
              "      <td>621</td>\n",
              "      <td>7392</td>\n",
              "      <td>11.903382</td>\n",
              "    </tr>\n",
              "  </tbody>\n",
              "</table>\n",
              "</div>"
            ],
            "text/plain": [
              "                valor                          ... vendas                   \n",
              "                  min      median         max  ...  count     sum       mean\n",
              "categoria                                      ...                          \n",
              "a           81.315428   99.955767  119.098804  ...   7613  377739  49.617628\n",
              "b          164.250840  200.140719  237.147466  ...   9594  235424  24.538670\n",
              "c          279.398013  300.148387  320.726223  ...   8684  140304  16.156610\n",
              "d          360.247909  400.407239  430.984546  ...    621    7392  11.903382\n",
              "\n",
              "[4 rows x 12 columns]"
            ]
          },
          "metadata": {
            "tags": []
          },
          "execution_count": 67
        }
      ]
    },
    {
      "cell_type": "code",
      "metadata": {
        "id": "ZjuXXkdpGnQI",
        "colab_type": "code",
        "colab": {
          "base_uri": "https://localhost:8080/",
          "height": 297
        },
        "outputId": "e5ac6aab-bd0d-47e9-a00d-d18a9eafeb12"
      },
      "source": [
        "df_simulado.describe()"
      ],
      "execution_count": 68,
      "outputs": [
        {
          "output_type": "execute_result",
          "data": {
            "text/html": [
              "<div>\n",
              "<style scoped>\n",
              "    .dataframe tbody tr th:only-of-type {\n",
              "        vertical-align: middle;\n",
              "    }\n",
              "\n",
              "    .dataframe tbody tr th {\n",
              "        vertical-align: top;\n",
              "    }\n",
              "\n",
              "    .dataframe thead th {\n",
              "        text-align: right;\n",
              "    }\n",
              "</style>\n",
              "<table border=\"1\" class=\"dataframe\">\n",
              "  <thead>\n",
              "    <tr style=\"text-align: right;\">\n",
              "      <th></th>\n",
              "      <th>valor</th>\n",
              "      <th>vendas</th>\n",
              "    </tr>\n",
              "  </thead>\n",
              "  <tbody>\n",
              "    <tr>\n",
              "      <th>count</th>\n",
              "      <td>26512.000000</td>\n",
              "      <td>26512.000000</td>\n",
              "    </tr>\n",
              "    <tr>\n",
              "      <th>mean</th>\n",
              "      <td>208.743614</td>\n",
              "      <td>28.698665</td>\n",
              "    </tr>\n",
              "    <tr>\n",
              "      <th>std</th>\n",
              "      <td>84.083272</td>\n",
              "      <td>14.246317</td>\n",
              "    </tr>\n",
              "    <tr>\n",
              "      <th>min</th>\n",
              "      <td>81.315428</td>\n",
              "      <td>7.000000</td>\n",
              "    </tr>\n",
              "    <tr>\n",
              "      <th>25%</th>\n",
              "      <td>105.610866</td>\n",
              "      <td>17.000000</td>\n",
              "    </tr>\n",
              "    <tr>\n",
              "      <th>50%</th>\n",
              "      <td>202.329838</td>\n",
              "      <td>24.000000</td>\n",
              "    </tr>\n",
              "    <tr>\n",
              "      <th>75%</th>\n",
              "      <td>297.592616</td>\n",
              "      <td>43.000000</td>\n",
              "    </tr>\n",
              "    <tr>\n",
              "      <th>max</th>\n",
              "      <td>430.984546</td>\n",
              "      <td>74.000000</td>\n",
              "    </tr>\n",
              "  </tbody>\n",
              "</table>\n",
              "</div>"
            ],
            "text/plain": [
              "              valor        vendas\n",
              "count  26512.000000  26512.000000\n",
              "mean     208.743614     28.698665\n",
              "std       84.083272     14.246317\n",
              "min       81.315428      7.000000\n",
              "25%      105.610866     17.000000\n",
              "50%      202.329838     24.000000\n",
              "75%      297.592616     43.000000\n",
              "max      430.984546     74.000000"
            ]
          },
          "metadata": {
            "tags": []
          },
          "execution_count": 68
        }
      ]
    },
    {
      "cell_type": "code",
      "metadata": {
        "id": "rZRyKTcIGtfM",
        "colab_type": "code",
        "colab": {
          "base_uri": "https://localhost:8080/",
          "height": 235
        },
        "outputId": "d5d3ab80-1bd4-45fd-d347-914d8b54cf00"
      },
      "source": [
        "df_simulado.set_index('categoria').sort_values('valor').head()"
      ],
      "execution_count": 69,
      "outputs": [
        {
          "output_type": "execute_result",
          "data": {
            "text/html": [
              "<div>\n",
              "<style scoped>\n",
              "    .dataframe tbody tr th:only-of-type {\n",
              "        vertical-align: middle;\n",
              "    }\n",
              "\n",
              "    .dataframe tbody tr th {\n",
              "        vertical-align: top;\n",
              "    }\n",
              "\n",
              "    .dataframe thead th {\n",
              "        text-align: right;\n",
              "    }\n",
              "</style>\n",
              "<table border=\"1\" class=\"dataframe\">\n",
              "  <thead>\n",
              "    <tr style=\"text-align: right;\">\n",
              "      <th></th>\n",
              "      <th>valor</th>\n",
              "      <th>vendas</th>\n",
              "    </tr>\n",
              "    <tr>\n",
              "      <th>categoria</th>\n",
              "      <th></th>\n",
              "      <th></th>\n",
              "    </tr>\n",
              "  </thead>\n",
              "  <tbody>\n",
              "    <tr>\n",
              "      <th>a</th>\n",
              "      <td>81.315428</td>\n",
              "      <td>54</td>\n",
              "    </tr>\n",
              "    <tr>\n",
              "      <th>a</th>\n",
              "      <td>81.983313</td>\n",
              "      <td>56</td>\n",
              "    </tr>\n",
              "    <tr>\n",
              "      <th>a</th>\n",
              "      <td>83.079677</td>\n",
              "      <td>56</td>\n",
              "    </tr>\n",
              "    <tr>\n",
              "      <th>a</th>\n",
              "      <td>83.804174</td>\n",
              "      <td>74</td>\n",
              "    </tr>\n",
              "    <tr>\n",
              "      <th>a</th>\n",
              "      <td>84.052257</td>\n",
              "      <td>67</td>\n",
              "    </tr>\n",
              "  </tbody>\n",
              "</table>\n",
              "</div>"
            ],
            "text/plain": [
              "               valor  vendas\n",
              "categoria                   \n",
              "a          81.315428      54\n",
              "a          81.983313      56\n",
              "a          83.079677      56\n",
              "a          83.804174      74\n",
              "a          84.052257      67"
            ]
          },
          "metadata": {
            "tags": []
          },
          "execution_count": 69
        }
      ]
    },
    {
      "cell_type": "markdown",
      "metadata": {
        "id": "PGogwN-IBHYp",
        "colab_type": "text"
      },
      "source": [
        "## Gráficos embutidos no Pandas (Usa Matplotlib internamente)"
      ]
    },
    {
      "cell_type": "code",
      "metadata": {
        "id": "BTg5oi46BNzm",
        "colab_type": "code",
        "colab": {}
      },
      "source": [
        ""
      ],
      "execution_count": 69,
      "outputs": []
    },
    {
      "cell_type": "markdown",
      "metadata": {
        "id": "mW0ig528DKrn",
        "colab_type": "text"
      },
      "source": [
        "Tipos de Gráficos embutidos no pandas:\n",
        "<pre>\n",
        "df.plot.hist()     histogram\n",
        "df.plot.bar()      bar chart\n",
        "df.plot.barh()     horizontal bar chart\n",
        "df.plot.line()     line chart\n",
        "df.plot.area()     area chart\n",
        "df.plot.scatter()  scatter plot\n",
        "df.plot.box()      box plot\n",
        "df.plot.kde()      kde plot\n",
        "df.plot.hexbin()   hexagonal bin plot\n",
        "df.plot.pie()      pie chart</pre>\n",
        "\n",
        "\n",
        "\n"
      ]
    },
    {
      "cell_type": "code",
      "metadata": {
        "id": "MTlWUSyTDTL0",
        "colab_type": "code",
        "colab": {
          "base_uri": "https://localhost:8080/",
          "height": 281
        },
        "outputId": "c6d536dc-cb71-432b-982e-aa0f575e95dd"
      },
      "source": [
        "df_simulado['vendas'].plot.hist()\n",
        "plt.grid(True)\n",
        "plt.title('Vendas')\n",
        "plt.show()"
      ],
      "execution_count": 70,
      "outputs": [
        {
          "output_type": "display_data",
          "data": {
            "image/png": "[encoded data removed]",
            "text/plain": [
              "<Figure size 432x288 with 1 Axes>"
            ]
          },
          "metadata": {
            "tags": [],
            "needs_background": "light"
          }
        }
      ]
    },
    {
      "cell_type": "markdown",
      "metadata": {
        "id": "dnToEskxDUBB",
        "colab_type": "text"
      },
      "source": [
        "É conveniente executar plt.show() após o gráfico (Veremos que se quisermos sobrepor gráficos, isso será necessário). Exemplo com plt.show(), adicionando também o grid."
      ]
    },
    {
      "cell_type": "code",
      "metadata": {
        "id": "_IdLhrT0hRPQ",
        "colab_type": "code",
        "colab": {
          "base_uri": "https://localhost:8080/",
          "height": 545
        },
        "outputId": "93e3fab1-2958-4162-ced2-cc3cae2fb6d6"
      },
      "source": [
        "df_simulado[df_simulado.categoria=='a']['vendas'].plot.hist()\n",
        "plt.grid(True)\n",
        "plt.title('categoria=a')\n",
        "plt.show()\n",
        "\n",
        "df_simulado[df_simulado.categoria=='b']['vendas'].plot.hist()\n",
        "plt.title('categoria=b')\n",
        "plt.grid(True)\n",
        "plt.show()\n"
      ],
      "execution_count": 71,
      "outputs": [
        {
          "output_type": "display_data",
          "data": {
            "image/png": "[encoded data removed]",
            "text/plain": [
              "<Figure size 432x288 with 1 Axes>"
            ]
          },
          "metadata": {
            "tags": [],
            "needs_background": "light"
          }
        },
        {
          "output_type": "display_data",
          "data": {
            "image/png": "[encoded data removed]",
            "text/plain": [
              "<Figure size 432x288 with 1 Axes>"
            ]
          },
          "metadata": {
            "tags": [],
            "needs_background": "light"
          }
        }
      ]
    },
    {
      "cell_type": "markdown",
      "metadata": {
        "id": "AHm5yNMsEGz1",
        "colab_type": "text"
      },
      "source": [
        "Faremos os gráficos sobrepostos agora."
      ]
    },
    {
      "cell_type": "code",
      "metadata": {
        "id": "2aujzxL_EFY9",
        "colab_type": "code",
        "colab": {
          "base_uri": "https://localhost:8080/",
          "height": 543
        },
        "outputId": "023afe73-3565-43fb-d1ab-18975cacf572"
      },
      "source": [
        "fig, ax = plt.subplots()\n",
        "\n",
        "df_simulado[df_simulado.categoria=='a']['vendas'].plot.hist(ax=ax)\n",
        "df_simulado[df_simulado.categoria=='b']['vendas'].plot.hist(ax=ax)\n",
        "df_simulado[df_simulado.categoria=='c']['vendas'].plot.hist(ax=ax)\n",
        "df_simulado[df_simulado.categoria=='d']['vendas'].plot.hist(ax=ax)\n",
        "plt.grid(True)\n",
        "plt.xlabel('vendas')\n",
        "plt.show()\n",
        "\n",
        "fig, ax = plt.subplots()\n",
        "df_simulado[df_simulado.categoria=='a']['valor'].plot.hist(ax=ax)\n",
        "df_simulado[df_simulado.categoria=='b']['valor'].plot.hist(ax=ax)\n",
        "df_simulado[df_simulado.categoria=='c']['valor'].plot.hist(ax=ax)\n",
        "df_simulado[df_simulado.categoria=='d']['valor'].plot.hist(ax=ax)\n",
        "plt.xlabel('valor')\n",
        "plt.grid(True)\n",
        "plt.show()"
      ],
      "execution_count": 72,
      "outputs": [
        {
          "output_type": "display_data",
          "data": {
            "image/png": "[encoded data removed]",
            "text/plain": [
              "<Figure size 432x288 with 1 Axes>"
            ]
          },
          "metadata": {
            "tags": [],
            "needs_background": "light"
          }
        },
        {
          "output_type": "display_data",
          "data": {
            "image/png": "[encoded data removed]",
            "text/plain": [
              "<Figure size 432x288 with 1 Axes>"
            ]
          },
          "metadata": {
            "tags": [],
            "needs_background": "light"
          }
        }
      ]
    },
    {
      "cell_type": "markdown",
      "metadata": {
        "id": "q0Z_q8lpFyHS",
        "colab_type": "text"
      },
      "source": [
        "Podemos criar um gráfico de densidade também."
      ]
    },
    {
      "cell_type": "code",
      "metadata": {
        "id": "9fGZa-KAhRRy",
        "colab_type": "code",
        "colab": {
          "base_uri": "https://localhost:8080/",
          "height": 541
        },
        "outputId": "f8164f37-13a8-4b90-ce1c-a6dcd1239985"
      },
      "source": [
        "fig, ax = plt.subplots()\n",
        "\n",
        "df_simulado[df_simulado.categoria=='a']['valor'].plot.hist(ax=ax,density=False)\n",
        "df_simulado[df_simulado.categoria=='b']['valor'].plot.hist(ax=ax,density=False)\n",
        "df_simulado[df_simulado.categoria=='c']['valor'].plot.hist(ax=ax,density=False)\n",
        "df_simulado[df_simulado.categoria=='d']['valor'].plot.hist(ax=ax,density=False)\n",
        "plt.grid(True)\n",
        "plt.xlabel('valor')\n",
        "plt.show()\n",
        "\n",
        "fig, ax = plt.subplots()\n",
        "df_simulado[df_simulado.categoria=='a']['valor'].plot.hist(ax=ax,density=True)\n",
        "df_simulado[df_simulado.categoria=='b']['valor'].plot.hist(ax=ax,density=True)\n",
        "df_simulado[df_simulado.categoria=='c']['valor'].plot.hist(ax=ax,density=True)\n",
        "df_simulado[df_simulado.categoria=='d']['valor'].plot.hist(ax=ax,density=True)\n",
        "plt.xlabel('valor')\n",
        "plt.grid(True)\n",
        "plt.show()"
      ],
      "execution_count": 73,
      "outputs": [
        {
          "output_type": "display_data",
          "data": {
            "image/png": "[encoded data removed]",
            "text/plain": [
              "<Figure size 432x288 with 1 Axes>"
            ]
          },
          "metadata": {
            "tags": [],
            "needs_background": "light"
          }
        },
        {
          "output_type": "display_data",
          "data": {
            "image/png": "[encoded data removed]",
            "text/plain": [
              "<Figure size 432x288 with 1 Axes>"
            ]
          },
          "metadata": {
            "tags": [],
            "needs_background": "light"
          }
        }
      ]
    },
    {
      "cell_type": "markdown",
      "metadata": {
        "id": "ZnGS9By8DraD",
        "colab_type": "text"
      },
      "source": [
        "Exemplo por classe"
      ]
    },
    {
      "cell_type": "markdown",
      "metadata": {
        "id": "8dJBaW3gT3vg",
        "colab_type": "text"
      },
      "source": [
        "## Barras"
      ]
    },
    {
      "cell_type": "code",
      "metadata": {
        "id": "uiEY3yoTMWfG",
        "colab_type": "code",
        "colab": {
          "base_uri": "https://localhost:8080/",
          "height": 537
        },
        "outputId": "ec6645e9-97c7-479e-a3d0-79cd4d3f4954"
      },
      "source": [
        "df_simulado.groupby('categoria').agg('count').plot.bar();\n",
        "plt.ylabel('counts')\n",
        "plt.grid()\n",
        "\n",
        "df_simulado.groupby('categoria').agg('mean').plot.bar();\n",
        "plt.ylabel('mean')\n",
        "plt.grid()"
      ],
      "execution_count": 74,
      "outputs": [
        {
          "output_type": "display_data",
          "data": {
            "image/png": "[encoded data removed]",
            "text/plain": [
              "<Figure size 432x288 with 1 Axes>"
            ]
          },
          "metadata": {
            "tags": [],
            "needs_background": "light"
          }
        },
        {
          "output_type": "display_data",
          "data": {
            "image/png": "[encoded data removed]",
            "text/plain": [
              "<Figure size 432x288 with 1 Axes>"
            ]
          },
          "metadata": {
            "tags": [],
            "needs_background": "light"
          }
        }
      ]
    },
    {
      "cell_type": "markdown",
      "metadata": {
        "id": "ay_W0GX_T1Zm",
        "colab_type": "text"
      },
      "source": [
        "## BoxPlot"
      ]
    },
    {
      "cell_type": "code",
      "metadata": {
        "id": "0t6L_3ETSQdd",
        "colab_type": "code",
        "colab": {
          "base_uri": "https://localhost:8080/",
          "height": 265
        },
        "outputId": "d24b0ce7-f8aa-4dfc-fc71-7297f54f1585"
      },
      "source": [
        "df_simulado.groupby('categoria').agg('mean').plot.box();\n",
        "plt.ylabel('mean')\n",
        "plt.grid()"
      ],
      "execution_count": 75,
      "outputs": [
        {
          "output_type": "display_data",
          "data": {
            "image/png": "[encoded data removed]",
            "text/plain": [
              "<Figure size 432x288 with 1 Axes>"
            ]
          },
          "metadata": {
            "tags": [],
            "needs_background": "light"
          }
        }
      ]
    },
    {
      "cell_type": "code",
      "metadata": {
        "id": "IXw9zZePTpcL",
        "colab_type": "code",
        "colab": {
          "base_uri": "https://localhost:8080/",
          "height": 585
        },
        "outputId": "48a2ab81-0047-499b-a138-c3de3e5e60ab"
      },
      "source": [
        "df_simulado[['categoria','valor']].boxplot(by='categoria')\n",
        "plt.show()\n",
        "\n",
        "df_simulado[['categoria','vendas']].boxplot(by='categoria')\n",
        "plt.show()"
      ],
      "execution_count": 76,
      "outputs": [
        {
          "output_type": "display_data",
          "data": {
            "image/png": "[encoded data removed]",
            "text/plain": [
              "<Figure size 432x288 with 1 Axes>"
            ]
          },
          "metadata": {
            "tags": [],
            "needs_background": "light"
          }
        },
        {
          "output_type": "display_data",
          "data": {
            "image/png": "[encoded data removed]",
            "text/plain": [
              "<Figure size 432x288 with 1 Axes>"
            ]
          },
          "metadata": {
            "tags": [],
            "needs_background": "light"
          }
        }
      ]
    },
    {
      "cell_type": "code",
      "metadata": {
        "id": "eNGlIPG9T7cP",
        "colab_type": "code",
        "colab": {
          "base_uri": "https://localhost:8080/",
          "height": 513
        },
        "outputId": "f14da02d-27ac-4b20-b04b-a827fe1e2d6c"
      },
      "source": [
        "df_simulado[df_simulado.categoria=='a']['valor'].plot.kde()\n",
        "\n",
        "fig, ax = plt.subplots()\n",
        "\n",
        "df_simulado[df_simulado.categoria=='a']['valor'].plot.hist(ax=ax,density=True)\n",
        "df_simulado[df_simulado.categoria=='a']['valor'].plot.kde(ax=ax)\n",
        "plt.show()"
      ],
      "execution_count": 77,
      "outputs": [
        {
          "output_type": "display_data",
          "data": {
            "image/png": "[encoded data removed]",
            "text/plain": [
              "<Figure size 432x288 with 1 Axes>"
            ]
          },
          "metadata": {
            "tags": [],
            "needs_background": "light"
          }
        },
        {
          "output_type": "display_data",
          "data": {
            "image/png": "[encoded data removed]",
            "text/plain": [
              "<Figure size 432x288 with 1 Axes>"
            ]
          },
          "metadata": {
            "tags": [],
            "needs_background": "light"
          }
        }
      ]
    },
    {
      "cell_type": "markdown",
      "metadata": {
        "id": "n-nalNg0hUMh",
        "colab_type": "text"
      },
      "source": [
        "## Explorando um site com tabelas"
      ]
    },
    {
      "cell_type": "code",
      "metadata": {
        "id": "DK2nvP-GfagL",
        "colab_type": "code",
        "colab": {}
      },
      "source": [
        "df_html = pd.read_html('http://www.fdic.gov/bank/individual/failed/banklist.html')"
      ],
      "execution_count": 78,
      "outputs": []
    },
    {
      "cell_type": "code",
      "metadata": {
        "id": "BuXoTbW2fmjr",
        "colab_type": "code",
        "colab": {
          "base_uri": "https://localhost:8080/",
          "height": 204
        },
        "outputId": "b8a46ebf-1086-48f0-b23e-d89500fd8ca1"
      },
      "source": [
        "df_html[0].head()"
      ],
      "execution_count": 79,
      "outputs": [
        {
          "output_type": "execute_result",
          "data": {
            "text/html": [
              "<div>\n",
              "<style scoped>\n",
              "    .dataframe tbody tr th:only-of-type {\n",
              "        vertical-align: middle;\n",
              "    }\n",
              "\n",
              "    .dataframe tbody tr th {\n",
              "        vertical-align: top;\n",
              "    }\n",
              "\n",
              "    .dataframe thead th {\n",
              "        text-align: right;\n",
              "    }\n",
              "</style>\n",
              "<table border=\"1\" class=\"dataframe\">\n",
              "  <thead>\n",
              "    <tr style=\"text-align: right;\">\n",
              "      <th></th>\n",
              "      <th>Bank Name</th>\n",
              "      <th>City</th>\n",
              "      <th>ST</th>\n",
              "      <th>CERT</th>\n",
              "      <th>Acquiring Institution</th>\n",
              "      <th>Closing Date</th>\n",
              "    </tr>\n",
              "  </thead>\n",
              "  <tbody>\n",
              "    <tr>\n",
              "      <th>0</th>\n",
              "      <td>The First State Bank</td>\n",
              "      <td>Barboursville</td>\n",
              "      <td>WV</td>\n",
              "      <td>14361</td>\n",
              "      <td>MVB Bank, Inc.</td>\n",
              "      <td>April 3, 2020</td>\n",
              "    </tr>\n",
              "    <tr>\n",
              "      <th>1</th>\n",
              "      <td>Ericson State Bank</td>\n",
              "      <td>Ericson</td>\n",
              "      <td>NE</td>\n",
              "      <td>18265</td>\n",
              "      <td>Farmers and Merchants Bank</td>\n",
              "      <td>February 14, 2020</td>\n",
              "    </tr>\n",
              "    <tr>\n",
              "      <th>2</th>\n",
              "      <td>City National Bank of New Jersey</td>\n",
              "      <td>Newark</td>\n",
              "      <td>NJ</td>\n",
              "      <td>21111</td>\n",
              "      <td>Industrial Bank</td>\n",
              "      <td>November 1, 2019</td>\n",
              "    </tr>\n",
              "    <tr>\n",
              "      <th>3</th>\n",
              "      <td>Resolute Bank</td>\n",
              "      <td>Maumee</td>\n",
              "      <td>OH</td>\n",
              "      <td>58317</td>\n",
              "      <td>Buckeye State Bank</td>\n",
              "      <td>October 25, 2019</td>\n",
              "    </tr>\n",
              "    <tr>\n",
              "      <th>4</th>\n",
              "      <td>Louisa Community Bank</td>\n",
              "      <td>Louisa</td>\n",
              "      <td>KY</td>\n",
              "      <td>58112</td>\n",
              "      <td>Kentucky Farmers Bank Corporation</td>\n",
              "      <td>October 25, 2019</td>\n",
              "    </tr>\n",
              "  </tbody>\n",
              "</table>\n",
              "</div>"
            ],
            "text/plain": [
              "                          Bank Name  ...       Closing Date\n",
              "0              The First State Bank  ...      April 3, 2020\n",
              "1                Ericson State Bank  ...  February 14, 2020\n",
              "2  City National Bank of New Jersey  ...   November 1, 2019\n",
              "3                     Resolute Bank  ...   October 25, 2019\n",
              "4             Louisa Community Bank  ...   October 25, 2019\n",
              "\n",
              "[5 rows x 6 columns]"
            ]
          },
          "metadata": {
            "tags": []
          },
          "execution_count": 79
        }
      ]
    },
    {
      "cell_type": "markdown",
      "metadata": {
        "id": "pOdFm2FlSC66",
        "colab_type": "text"
      },
      "source": [
        "## Por exemplo Leaderboard do Hackaton"
      ]
    },
    {
      "cell_type": "code",
      "metadata": {
        "id": "kCOTyHWUfmof",
        "colab_type": "code",
        "colab": {}
      },
      "source": [
        "df_html3=pd.read_html('http://leaderboard.hackaton.dotz.com.br/')"
      ],
      "execution_count": 80,
      "outputs": []
    },
    {
      "cell_type": "code",
      "metadata": {
        "id": "gUkoLvP5nF6M",
        "colab_type": "code",
        "colab": {
          "base_uri": "https://localhost:8080/",
          "height": 204
        },
        "outputId": "89a69259-5ae4-43e6-df2d-7dd05188d7b0"
      },
      "source": [
        "df_html3[0].head()"
      ],
      "execution_count": 81,
      "outputs": [
        {
          "output_type": "execute_result",
          "data": {
            "text/html": [
              "<div>\n",
              "<style scoped>\n",
              "    .dataframe tbody tr th:only-of-type {\n",
              "        vertical-align: middle;\n",
              "    }\n",
              "\n",
              "    .dataframe tbody tr th {\n",
              "        vertical-align: top;\n",
              "    }\n",
              "\n",
              "    .dataframe thead th {\n",
              "        text-align: right;\n",
              "    }\n",
              "</style>\n",
              "<table border=\"1\" class=\"dataframe\">\n",
              "  <thead>\n",
              "    <tr style=\"text-align: right;\">\n",
              "      <th></th>\n",
              "      <th>No</th>\n",
              "      <th>username</th>\n",
              "      <th>score</th>\n",
              "      <th>total_submission</th>\n",
              "      <th>last_sub</th>\n",
              "    </tr>\n",
              "  </thead>\n",
              "  <tbody>\n",
              "    <tr>\n",
              "      <th>0</th>\n",
              "      <td>1</td>\n",
              "      <td>rassacaaso</td>\n",
              "      <td>0.8727</td>\n",
              "      <td>32</td>\n",
              "      <td>2020-06-13 02:50:54.174528</td>\n",
              "    </tr>\n",
              "    <tr>\n",
              "      <th>1</th>\n",
              "      <td>2</td>\n",
              "      <td>felipepolo</td>\n",
              "      <td>0.8721</td>\n",
              "      <td>38</td>\n",
              "      <td>2020-06-12 04:34:45.858622</td>\n",
              "    </tr>\n",
              "    <tr>\n",
              "      <th>2</th>\n",
              "      <td>3</td>\n",
              "      <td>hahaaenois</td>\n",
              "      <td>0.8680</td>\n",
              "      <td>159</td>\n",
              "      <td>2020-06-13 02:43:59.679251</td>\n",
              "    </tr>\n",
              "    <tr>\n",
              "      <th>3</th>\n",
              "      <td>4</td>\n",
              "      <td>lucio</td>\n",
              "      <td>0.8518</td>\n",
              "      <td>19</td>\n",
              "      <td>2020-06-10 00:33:09.020209</td>\n",
              "    </tr>\n",
              "    <tr>\n",
              "      <th>4</th>\n",
              "      <td>5</td>\n",
              "      <td>janeausten</td>\n",
              "      <td>0.8493</td>\n",
              "      <td>17</td>\n",
              "      <td>2020-06-09 14:22:22.252264</td>\n",
              "    </tr>\n",
              "  </tbody>\n",
              "</table>\n",
              "</div>"
            ],
            "text/plain": [
              "   No    username   score  total_submission                    last_sub\n",
              "0   1  rassacaaso  0.8727                32  2020-06-13 02:50:54.174528\n",
              "1   2  felipepolo  0.8721                38  2020-06-12 04:34:45.858622\n",
              "2   3  hahaaenois  0.8680               159  2020-06-13 02:43:59.679251\n",
              "3   4       lucio  0.8518                19  2020-06-10 00:33:09.020209\n",
              "4   5  janeausten  0.8493                17  2020-06-09 14:22:22.252264"
            ]
          },
          "metadata": {
            "tags": []
          },
          "execution_count": 81
        }
      ]
    },
    {
      "cell_type": "code",
      "metadata": {
        "id": "Yu3NdBLfsCXn",
        "colab_type": "code",
        "colab": {
          "base_uri": "https://localhost:8080/",
          "height": 125
        },
        "outputId": "9fcce61b-49e1-4fe4-fb14-93b5de665433"
      },
      "source": [
        "df_html3[0].dtypes"
      ],
      "execution_count": 82,
      "outputs": [
        {
          "output_type": "execute_result",
          "data": {
            "text/plain": [
              "No                    int64\n",
              "username             object\n",
              "score               float64\n",
              "total_submission      int64\n",
              "last_sub             object\n",
              "dtype: object"
            ]
          },
          "metadata": {
            "tags": []
          },
          "execution_count": 82
        }
      ]
    },
    {
      "cell_type": "code",
      "metadata": {
        "id": "Y5dOg1t8r5SJ",
        "colab_type": "code",
        "colab": {
          "base_uri": "https://localhost:8080/",
          "height": 513
        },
        "outputId": "a0e96e97-4a63-4614-91dd-cd788e156e5a"
      },
      "source": [
        "df_html3[0]['score'].plot.hist()\n",
        "plt.grid(True)\n",
        "plt.show()\n",
        "\n",
        "df_html3[0]['total_submission'].plot.hist()\n",
        "plt.grid(True)\n",
        "plt.show()"
      ],
      "execution_count": 83,
      "outputs": [
        {
          "output_type": "display_data",
          "data": {
            "image/png": "[encoded data removed]",
            "text/plain": [
              "<Figure size 432x288 with 1 Axes>"
            ]
          },
          "metadata": {
            "tags": [],
            "needs_background": "light"
          }
        },
        {
          "output_type": "display_data",
          "data": {
            "image/png": "[encoded data removed]",
            "text/plain": [
              "<Figure size 432x288 with 1 Axes>"
            ]
          },
          "metadata": {
            "tags": [],
            "needs_background": "light"
          }
        }
      ]
    },
    {
      "cell_type": "code",
      "metadata": {
        "id": "SzZsoXYDfais",
        "colab_type": "code",
        "colab": {
          "base_uri": "https://localhost:8080/",
          "height": 204
        },
        "outputId": "b4dfdeb9-a6dc-48ca-c61d-c297bfb2487c"
      },
      "source": [
        "# from google.colab import drive\n",
        "# drive.mount('/content/gdrive')\n",
        "\n",
        "df = pd.read_csv('https://raw.githubusercontent.com/mfiguere/Colab/master/starbucks.csv')\n",
        "df.head()"
      ],
      "execution_count": 84,
      "outputs": [
        {
          "output_type": "execute_result",
          "data": {
            "text/html": [
              "<div>\n",
              "<style scoped>\n",
              "    .dataframe tbody tr th:only-of-type {\n",
              "        vertical-align: middle;\n",
              "    }\n",
              "\n",
              "    .dataframe tbody tr th {\n",
              "        vertical-align: top;\n",
              "    }\n",
              "\n",
              "    .dataframe thead th {\n",
              "        text-align: right;\n",
              "    }\n",
              "</style>\n",
              "<table border=\"1\" class=\"dataframe\">\n",
              "  <thead>\n",
              "    <tr style=\"text-align: right;\">\n",
              "      <th></th>\n",
              "      <th>Date</th>\n",
              "      <th>Close</th>\n",
              "      <th>Volume</th>\n",
              "    </tr>\n",
              "  </thead>\n",
              "  <tbody>\n",
              "    <tr>\n",
              "      <th>0</th>\n",
              "      <td>2015-01-02</td>\n",
              "      <td>38.0061</td>\n",
              "      <td>6906098</td>\n",
              "    </tr>\n",
              "    <tr>\n",
              "      <th>1</th>\n",
              "      <td>2015-01-05</td>\n",
              "      <td>37.2781</td>\n",
              "      <td>11623796</td>\n",
              "    </tr>\n",
              "    <tr>\n",
              "      <th>2</th>\n",
              "      <td>2015-01-06</td>\n",
              "      <td>36.9748</td>\n",
              "      <td>7664340</td>\n",
              "    </tr>\n",
              "    <tr>\n",
              "      <th>3</th>\n",
              "      <td>2015-01-07</td>\n",
              "      <td>37.8848</td>\n",
              "      <td>9732554</td>\n",
              "    </tr>\n",
              "    <tr>\n",
              "      <th>4</th>\n",
              "      <td>2015-01-08</td>\n",
              "      <td>38.4961</td>\n",
              "      <td>13170548</td>\n",
              "    </tr>\n",
              "  </tbody>\n",
              "</table>\n",
              "</div>"
            ],
            "text/plain": [
              "         Date    Close    Volume\n",
              "0  2015-01-02  38.0061   6906098\n",
              "1  2015-01-05  37.2781  11623796\n",
              "2  2015-01-06  36.9748   7664340\n",
              "3  2015-01-07  37.8848   9732554\n",
              "4  2015-01-08  38.4961  13170548"
            ]
          },
          "metadata": {
            "tags": []
          },
          "execution_count": 84
        }
      ]
    },
    {
      "cell_type": "code",
      "metadata": {
        "id": "Ihdx_zbdC-fy",
        "colab_type": "code",
        "colab": {
          "base_uri": "https://localhost:8080/",
          "height": 283
        },
        "outputId": "3d1abf6d-2b0f-456e-b42f-1a100ef4814e"
      },
      "source": [
        "df['Close'].plot.hist()"
      ],
      "execution_count": 85,
      "outputs": [
        {
          "output_type": "execute_result",
          "data": {
            "text/plain": [
              "<matplotlib.axes._subplots.AxesSubplot at 0x7fa32098cfd0>"
            ]
          },
          "metadata": {
            "tags": []
          },
          "execution_count": 85
        },
        {
          "output_type": "display_data",
          "data": {
            "image/png": "[encoded data removed]",
            "text/plain": [
              "<Figure size 432x288 with 1 Axes>"
            ]
          },
          "metadata": {
            "tags": [],
            "needs_background": "light"
          }
        }
      ]
    },
    {
      "cell_type": "code",
      "metadata": {
        "id": "AKXF09VoGXaH",
        "colab_type": "code",
        "colab": {
          "base_uri": "https://localhost:8080/",
          "height": 298
        },
        "outputId": "669b2822-c7c2-4afb-dcbd-45b8dec78d54"
      },
      "source": [
        "df['Volume'].plot.hist()"
      ],
      "execution_count": 86,
      "outputs": [
        {
          "output_type": "execute_result",
          "data": {
            "text/plain": [
              "<matplotlib.axes._subplots.AxesSubplot at 0x7fa3208c94e0>"
            ]
          },
          "metadata": {
            "tags": []
          },
          "execution_count": 86
        },
        {
          "output_type": "display_data",
          "data": {
            "image/png": "[encoded data removed]",
            "text/plain": [
              "<Figure size 432x288 with 1 Axes>"
            ]
          },
          "metadata": {
            "tags": [],
            "needs_background": "light"
          }
        }
      ]
    },
    {
      "cell_type": "code",
      "metadata": {
        "id": "WTLXPBa6DDC6",
        "colab_type": "code",
        "colab": {}
      },
      "source": [
        ""
      ],
      "execution_count": 86,
      "outputs": []
    },
    {
      "cell_type": "code",
      "metadata": {
        "id": "dkMNcYpQHrd5",
        "colab_type": "code",
        "colab": {}
      },
      "source": [
        "df_ts=df.set_index('Date')"
      ],
      "execution_count": 87,
      "outputs": []
    },
    {
      "cell_type": "code",
      "metadata": {
        "id": "zNAaosfoH1AV",
        "colab_type": "code",
        "colab": {}
      },
      "source": [
        ""
      ],
      "execution_count": 87,
      "outputs": []
    },
    {
      "cell_type": "markdown",
      "metadata": {
        "id": "1bkF3u15H3dW",
        "colab_type": "text"
      },
      "source": [
        "# Time Series"
      ]
    },
    {
      "cell_type": "code",
      "metadata": {
        "id": "BRnKJq4MHsDQ",
        "colab_type": "code",
        "colab": {
          "base_uri": "https://localhost:8080/",
          "height": 450
        },
        "outputId": "c5f7b47d-99a9-477a-d1c2-2739527e71ab"
      },
      "source": [
        "df_ts"
      ],
      "execution_count": 88,
      "outputs": [
        {
          "output_type": "execute_result",
          "data": {
            "text/html": [
              "<div>\n",
              "<style scoped>\n",
              "    .dataframe tbody tr th:only-of-type {\n",
              "        vertical-align: middle;\n",
              "    }\n",
              "\n",
              "    .dataframe tbody tr th {\n",
              "        vertical-align: top;\n",
              "    }\n",
              "\n",
              "    .dataframe thead th {\n",
              "        text-align: right;\n",
              "    }\n",
              "</style>\n",
              "<table border=\"1\" class=\"dataframe\">\n",
              "  <thead>\n",
              "    <tr style=\"text-align: right;\">\n",
              "      <th></th>\n",
              "      <th>Close</th>\n",
              "      <th>Volume</th>\n",
              "    </tr>\n",
              "    <tr>\n",
              "      <th>Date</th>\n",
              "      <th></th>\n",
              "      <th></th>\n",
              "    </tr>\n",
              "  </thead>\n",
              "  <tbody>\n",
              "    <tr>\n",
              "      <th>2015-01-02</th>\n",
              "      <td>38.0061</td>\n",
              "      <td>6906098</td>\n",
              "    </tr>\n",
              "    <tr>\n",
              "      <th>2015-01-05</th>\n",
              "      <td>37.2781</td>\n",
              "      <td>11623796</td>\n",
              "    </tr>\n",
              "    <tr>\n",
              "      <th>2015-01-06</th>\n",
              "      <td>36.9748</td>\n",
              "      <td>7664340</td>\n",
              "    </tr>\n",
              "    <tr>\n",
              "      <th>2015-01-07</th>\n",
              "      <td>37.8848</td>\n",
              "      <td>9732554</td>\n",
              "    </tr>\n",
              "    <tr>\n",
              "      <th>2015-01-08</th>\n",
              "      <td>38.4961</td>\n",
              "      <td>13170548</td>\n",
              "    </tr>\n",
              "    <tr>\n",
              "      <th>...</th>\n",
              "      <td>...</td>\n",
              "      <td>...</td>\n",
              "    </tr>\n",
              "    <tr>\n",
              "      <th>2018-12-24</th>\n",
              "      <td>60.5600</td>\n",
              "      <td>6323252</td>\n",
              "    </tr>\n",
              "    <tr>\n",
              "      <th>2018-12-26</th>\n",
              "      <td>63.0800</td>\n",
              "      <td>16646238</td>\n",
              "    </tr>\n",
              "    <tr>\n",
              "      <th>2018-12-27</th>\n",
              "      <td>63.2000</td>\n",
              "      <td>11308081</td>\n",
              "    </tr>\n",
              "    <tr>\n",
              "      <th>2018-12-28</th>\n",
              "      <td>63.3900</td>\n",
              "      <td>7712127</td>\n",
              "    </tr>\n",
              "    <tr>\n",
              "      <th>2018-12-31</th>\n",
              "      <td>64.4000</td>\n",
              "      <td>7690183</td>\n",
              "    </tr>\n",
              "  </tbody>\n",
              "</table>\n",
              "<p>1006 rows × 2 columns</p>\n",
              "</div>"
            ],
            "text/plain": [
              "              Close    Volume\n",
              "Date                         \n",
              "2015-01-02  38.0061   6906098\n",
              "2015-01-05  37.2781  11623796\n",
              "2015-01-06  36.9748   7664340\n",
              "2015-01-07  37.8848   9732554\n",
              "2015-01-08  38.4961  13170548\n",
              "...             ...       ...\n",
              "2018-12-24  60.5600   6323252\n",
              "2018-12-26  63.0800  16646238\n",
              "2018-12-27  63.2000  11308081\n",
              "2018-12-28  63.3900   7712127\n",
              "2018-12-31  64.4000   7690183\n",
              "\n",
              "[1006 rows x 2 columns]"
            ]
          },
          "metadata": {
            "tags": []
          },
          "execution_count": 88
        }
      ]
    },
    {
      "cell_type": "code",
      "metadata": {
        "id": "UQoTr_MZHzWP",
        "colab_type": "code",
        "colab": {
          "base_uri": "https://localhost:8080/",
          "height": 35
        },
        "outputId": "328bf9bc-8687-46d4-9fa2-4accbde135a5"
      },
      "source": [
        "df_ts.index.max()"
      ],
      "execution_count": 89,
      "outputs": [
        {
          "output_type": "execute_result",
          "data": {
            "application/vnd.google.colaboratory.intrinsic": {
              "type": "string"
            },
            "text/plain": [
              "'2018-12-31'"
            ]
          },
          "metadata": {
            "tags": []
          },
          "execution_count": 89
        }
      ]
    },
    {
      "cell_type": "code",
      "metadata": {
        "id": "hO5UxOH8IAX9",
        "colab_type": "code",
        "colab": {
          "base_uri": "https://localhost:8080/",
          "height": 35
        },
        "outputId": "bc69c3d1-aa37-43fe-de2c-3fe697736d31"
      },
      "source": [
        "df_ts.index.min()"
      ],
      "execution_count": 90,
      "outputs": [
        {
          "output_type": "execute_result",
          "data": {
            "application/vnd.google.colaboratory.intrinsic": {
              "type": "string"
            },
            "text/plain": [
              "'2015-01-02'"
            ]
          },
          "metadata": {
            "tags": []
          },
          "execution_count": 90
        }
      ]
    },
    {
      "cell_type": "code",
      "metadata": {
        "id": "roDzukw-IeIz",
        "colab_type": "code",
        "colab": {
          "base_uri": "https://localhost:8080/",
          "height": 616
        },
        "outputId": "eb05b44e-0930-431d-85b9-d585419001f6"
      },
      "source": [
        "df_ts['Volume'].plot(figsize=(20,10))\n",
        "plt.ylabel('Close')\n",
        "plt.grid()"
      ],
      "execution_count": 91,
      "outputs": [
        {
          "output_type": "display_data",
          "data": {
            "image/png": "[encoded data removed]",
            "text/plain": [
              "<Figure size 1440x720 with 1 Axes>"
            ]
          },
          "metadata": {
            "tags": [],
            "needs_background": "light"
          }
        }
      ]
    },
    {
      "cell_type": "code",
      "metadata": {
        "id": "-GREQuxSIg1N",
        "colab_type": "code",
        "colab": {
          "base_uri": "https://localhost:8080/",
          "height": 606
        },
        "outputId": "459f54cd-6824-46a2-d8f4-e2e9fd7c0a5d"
      },
      "source": [
        "df_ts['Close'].plot(figsize=(20,10))\n",
        "plt.ylabel('Close')\n",
        "plt.grid()"
      ],
      "execution_count": 98,
      "outputs": [
        {
          "output_type": "display_data",
          "data": {
            "image/png": "[encoded data removed]",
            "text/plain": [
              "<Figure size 1440x720 with 1 Axes>"
            ]
          },
          "metadata": {
            "tags": [],
            "needs_background": "light"
          }
        }
      ]
    },
    {
      "cell_type": "code",
      "metadata": {
        "id": "PqYMK6GOIlMG",
        "colab_type": "code",
        "colab": {}
      },
      "source": [
        "# other statistics\n",
        "df_ts['rolling_mean'] = df_ts['Close'].rolling(window=20).mean()"
      ],
      "execution_count": 103,
      "outputs": []
    },
    {
      "cell_type": "code",
      "metadata": {
        "id": "dQI0_VWA2iWu",
        "colab_type": "code",
        "colab": {
          "base_uri": "https://localhost:8080/",
          "height": 606
        },
        "outputId": "bd9acba5-d4c7-404c-89f7-f68fd9d8b13e"
      },
      "source": [
        "df_ts['rolling_mean'].plot(figsize=(20,10),label='Rolling Mean')\n",
        "df_ts['Close'].plot(figsize=(20,10),label='Close')\n",
        "plt.ylabel('rolling_mean')\n",
        "plt.legend()\n",
        "plt.grid()"
      ],
      "execution_count": 104,
      "outputs": [
        {
          "output_type": "display_data",
          "data": {
            "image/png": "[encoded data removed]",
            "text/plain": [
              "<Figure size 1440x720 with 1 Axes>"
            ]
          },
          "metadata": {
            "tags": [],
            "needs_background": "light"
          }
        }
      ]
    },
    {
      "cell_type": "code",
      "metadata": {
        "id": "xY14aasv2mxM",
        "colab_type": "code",
        "colab": {}
      },
      "source": [
        ""
      ],
      "execution_count": null,
      "outputs": []
    }
  ]
}